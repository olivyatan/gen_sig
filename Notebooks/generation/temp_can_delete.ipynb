{
 "cells": [
  {
   "cell_type": "code",
   "execution_count": 3,
   "id": "9e25308a-acdd-415a-b86a-e2d2d35870ea",
   "metadata": {},
   "outputs": [],
   "source": [
    "import pandas as pd"
   ]
  },
  {
   "cell_type": "code",
   "execution_count": 4,
   "id": "9e1e749d-574b-4059-9b99-8ff748154036",
   "metadata": {},
   "outputs": [
    {
     "name": "stdout",
     "output_type": "stream",
     "text": [
      "/home/mmandelbrod/repositories/\n",
      "curr dir: /home/mmandelbrod/repositories/generative-signals\n"
     ]
    }
   ],
   "source": [
    "base_path_kry = '/home/mmandelbrod/repositories/'\n",
    "base_path_mac = '/Users/mmandelbrod/workspace/'\n",
    "import sys\n",
    "import os\n",
    "\n",
    "tmp = !hostname\n",
    "if tmp[0].startswith('krylov'):\n",
    "    on_kry = True\n",
    "else: \n",
    "    on_kry = False\n",
    "    \n",
    "base_path = base_path_kry if on_kry else base_path_mac\n",
    "\n",
    "print(base_path)\n",
    "\n",
    "sys.path.append(base_path)\n",
    "sys.path.append(os.path.join(base_path, 'signals/'))\n",
    "# sys.path.append(os.path.join(base_path, 'signals/src'))\n",
    "sys.path.append(os.path.join(base_path, 'generative-signals/'))\n",
    "sys.path.append(os.path.join(base_path, 'generative-signals/src'))\n",
    "sys.path.append(os.path.join(base_path, 'generative-signals/dev/generation'))\n",
    "sys.path.append(os.path.join(base_path, 'signals/workflows/pipelines/'))\n",
    "sys.path.append(os.path.join(base_path, 'signals/workflows/global_utils/'))\n",
    "sys.path.append(os.path.join(base_path, 'signals/workflows'))\n",
    "sys.path.append(os.path.join(base_path, 'matans_sandbox/utils'))\n",
    "sys.path.append(os.path.join(base_path, 'gpt_call_async'))\n",
    "\n",
    "os.chdir(os.path.join(base_path,'generative-signals'))\n",
    "print(f\"curr dir: {os.getcwd()}\")"
   ]
  },
  {
   "cell_type": "code",
   "execution_count": 7,
   "id": "6100ae02-5bcf-4c6d-9e63-97c1ff04f862",
   "metadata": {},
   "outputs": [
    {
     "data": {
      "text/plain": [
       "'/home/mmandelbrod/repositories/generative-signals'"
      ]
     },
     "execution_count": 7,
     "metadata": {},
     "output_type": "execute_result"
    }
   ],
   "source": [
    "import pandas as pd\n",
    "import warnings\n",
    "warnings.filterwarnings(\"ignore\")\n",
    "import os\n",
    "import sys\n",
    "import base64\n",
    "from bs4 import BeautifulSoup\n",
    "import re\n",
    "import json\n",
    "import os\n",
    "from datetime import datetime\n",
    "from functools import reduce\n",
    "from typing import List\n",
    "import gzip\n",
    "import numpy as np\n",
    "from generation.sigs_gen import *\n",
    "from data_extraction.extraction_funcs import *\n",
    "from generation.generators import gpt_generator, mistral_generator\n",
    "os.getcwd()"
   ]
  },
  {
   "cell_type": "code",
   "execution_count": 5,
   "id": "bd4fd00d-ac2e-447a-80d0-17435aafdd27",
   "metadata": {},
   "outputs": [],
   "source": [
    "import pandas as pd \n"
   ]
  },
  {
   "cell_type": "code",
   "execution_count": 47,
   "id": "938c1cef-b82f-4a5c-820b-3581ef2e7975",
   "metadata": {},
   "outputs": [
    {
     "data": {
      "text/plain": [
       "'{\"characteristic\": \"1971 Topps Football\",\\n\"explanation\": \"This product is a collectible 1971 Topps Football trading card featuring Adrian Young from the Philadelphia Eagles. The \"1971 Topps Football\" characteristic is important as it establishes the item\\'s age, brand, and sport category, making it a valuable addition to any sports trading card collection.\"}'"
      ]
     },
     "execution_count": 47,
     "metadata": {},
     "output_type": "execute_result"
    }
   ],
   "source": [
    "text = '''{\"characteristic\": \"1971 Topps Football\",\n",
    "\"explanation\": \"This product is a collectible 1971 Topps Football trading card featuring Adrian Young from the Philadelphia Eagles. The \"1971 Topps Football\" characteristic is important as it establishes the item's age, brand, and sport category, making it a valuable addition to any sports trading card collection.\"}'''\n",
    "text"
   ]
  },
  {
   "cell_type": "code",
   "execution_count": 9,
   "id": "2d0a7ce4-cccc-45f7-9fee-0b0ff1e84d69",
   "metadata": {},
   "outputs": [
    {
     "name": "stdout",
     "output_type": "stream",
     "text": [
      "Couldn't find a match to dict string in {\"characteristic\": \"1971 Topps Football\",\n",
      "\"explanation\": \"This product is a collectible 1971 Topps Football trading card featuring Adrian Young from the Philadelphia Eagles. The \"1971 Topps Football\" characteristic is important as it establishes the item's age, brand, and sport category, making it a valuable addition to any sports trading card collection.\"}\n"
     ]
    }
   ],
   "source": [
    "extract_first_dict(text)"
   ]
  },
  {
   "cell_type": "code",
   "execution_count": 10,
   "id": "076f6404-fda5-4b4f-9c97-8a69125d8199",
   "metadata": {},
   "outputs": [],
   "source": [
    "dict_pattern = r\"\\{(?:\\s*'[^']*'\\s*:\\s*'[^']*'\\s*,?|\\s*\\\"[^\\\"]*\\\"\\s*:\\s*\\\"[^\\\"]*\\\"\\s*,?)*\\}\""
   ]
  },
  {
   "cell_type": "code",
   "execution_count": 11,
   "id": "9c9c6d99-5fb9-4a5b-b331-b4ba4e0cce1e",
   "metadata": {},
   "outputs": [],
   "source": [
    "matches = re.findall(dict_pattern, text)"
   ]
  },
  {
   "cell_type": "code",
   "execution_count": 13,
   "id": "0c472af0-3d83-46c7-b6c6-97ecd7caba54",
   "metadata": {},
   "outputs": [],
   "source": [
    "import ast"
   ]
  },
  {
   "cell_type": "code",
   "execution_count": 21,
   "id": "a39fd571-fe4f-40d1-a295-d9b68f762865",
   "metadata": {},
   "outputs": [
    {
     "data": {
      "text/plain": [
       "'{\"characteristic\": \"1971 Topps Football\",\\n\"explanation\": \"This product is a collectible 1971 Topps Football trading card featuring Adrian Young from the Philadelphia Eagles. The \\\\\"1971 Topps Football\\\\\" characteristic is important as it establishes the item\\'s age, brand, and sport category, making it a valuable addition to any sports trading card collection.\"}'"
      ]
     },
     "execution_count": 21,
     "metadata": {},
     "output_type": "execute_result"
    }
   ],
   "source": [
    "text_mod = '''{\"characteristic\": \"1971 Topps Football\",\n",
    "\"explanation\": \"This product is a collectible 1971 Topps Football trading card featuring Adrian Young from the Philadelphia Eagles. The \\\\\"1971 Topps Football\\\\\" characteristic is important as it establishes the item's age, brand, and sport category, making it a valuable addition to any sports trading card collection.\"}'''\n",
    "text"
   ]
  },
  {
   "cell_type": "code",
   "execution_count": 22,
   "id": "41db3d53-8901-414b-80d8-7bebbb5daaa8",
   "metadata": {},
   "outputs": [
    {
     "data": {
      "text/plain": [
       "{'characteristic': '1971 Topps Football',\n",
       " 'explanation': 'This product is a collectible 1971 Topps Football trading card featuring Adrian Young from the Philadelphia Eagles. The \"1971 Topps Football\" characteristic is important as it establishes the item\\'s age, brand, and sport category, making it a valuable addition to any sports trading card collection.'}"
      ]
     },
     "execution_count": 22,
     "metadata": {},
     "output_type": "execute_result"
    }
   ],
   "source": [
    "ast.literal_eval(text_mod)"
   ]
  },
  {
   "cell_type": "code",
   "execution_count": 19,
   "id": "a4755189-06fc-4fcf-9ac2-053b955b394b",
   "metadata": {},
   "outputs": [
    {
     "name": "stdout",
     "output_type": "stream",
     "text": [
      "['{\"characteristic\": \"1971 Topps Football\",\\n\"explanation\": \"This product is a collectible 1971 Topps Football trading card featuring Adrian Young from the Philadelphia Eagles. The \\\\\"1971 Topps Football\\\\\" characteristic is important as it establishes the item\\'s age, brand, and sport category, making it a valuable addition to any sports trading card collection.\"}']\n"
     ]
    }
   ],
   "source": [
    "import re\n",
    "\n",
    "# Input text\n",
    "text = '{\"characteristic\": \"1971 Topps Football\",\\n\"explanation\": \"This product is a collectible 1971 Topps Football trading card featuring Adrian Young from the Philadelphia Eagles. The \\\\\"1971 Topps Football\\\\\" characteristic is important as it establishes the item\\'s age, brand, and sport category, making it a valuable addition to any sports trading card collection.\"}'\n",
    "\n",
    "# Updated regular expression pattern to handle nested quotes\n",
    "dict_pattern = r'\\{(?:\\s*\\'[^\\']*\\'\\s*:\\s*\\'[^\\']*\\'\\s*,?|\\s*\\\"[^\\\"]*\\\"\\s*:\\s*\\\"(?:[^\\\"\\\\]|\\\\.)*\\\"\\s*,?)*\\}'\n",
    "\n",
    "# Find all matches\n",
    "matches = re.findall(dict_pattern, text)\n",
    "\n",
    "# Print matches\n",
    "print(matches)"
   ]
  },
  {
   "cell_type": "code",
   "execution_count": 20,
   "id": "af18deb2-a870-4153-ae90-e8c3c831bfdf",
   "metadata": {},
   "outputs": [
    {
     "data": {
      "text/plain": [
       "{'characteristic': '1971 Topps Football',\n",
       " 'explanation': 'This product is a collectible 1971 Topps Football trading card featuring Adrian Young from the Philadelphia Eagles. The \"1971 Topps Football\" characteristic is important as it establishes the item\\'s age, brand, and sport category, making it a valuable addition to any sports trading card collection.'}"
      ]
     },
     "execution_count": 20,
     "metadata": {},
     "output_type": "execute_result"
    }
   ],
   "source": [
    "ast.literal_eval(matches[0])"
   ]
  },
  {
   "cell_type": "code",
   "execution_count": 25,
   "id": "0f0324e2-183d-4920-bfa3-ae77d32c967e",
   "metadata": {},
   "outputs": [
    {
     "data": {
      "text/plain": [
       "[]"
      ]
     },
     "execution_count": 25,
     "metadata": {},
     "output_type": "execute_result"
    }
   ],
   "source": [
    "dict_pattern = r'\\{(?:\\s*\\'[^\\']*\\'\\s*:\\s*\\'[^\\']*\\'\\s*,?|\\s*\\\"[^\\\"]*\\\"\\s*:\\s*\\\"(?:[^\\\"\\\\]|\\\\.)*\\\"\\s*,?)*\\}'\n",
    "matches = re.findall(dict_pattern, text)\n",
    "matches"
   ]
  },
  {
   "cell_type": "code",
   "execution_count": 27,
   "id": "dd1798c5-5e4e-4c9e-8a78-45ec0796ad1d",
   "metadata": {},
   "outputs": [
    {
     "name": "stdout",
     "output_type": "stream",
     "text": [
      "{\"characteristic\":\"1971 Topps Football\",\n",
      "\"explanation\":\"This product is a collectible 1971 Topps Football trading card featuring Adrian Young from the Philadelphia Eagles. The \"1971 Topps Football\" characteristic is important as it establishes the item's age, brand, and sport category, making it a valuable addition to any sports trading card collection.\"}\n"
     ]
    }
   ],
   "source": [
    "import re\n",
    "\n",
    "# Input string\n",
    "text = '''{\"characteristic\": \"1971 Topps Football\",\n",
    "\"explanation\": \"This product is a collectible 1971 Topps Football trading card featuring Adrian Young from the Philadelphia Eagles. The \"1971 Topps Football\" characteristic is important as it establishes the item's age, brand, and sport category, making it a valuable addition to any sports trading card collection.\"}'''\n",
    "\n",
    "\n",
    "# Regular expression to find key-value pairs\n",
    "pattern = r'(\".*?\")\\s*:\\s*\"(.*?)\"'\n",
    "\n",
    "# Function to double-escape quotes within values\n",
    "def double_escape_quotes(match):\n",
    "    key = match.group(1)\n",
    "    value = match.group(2).replace('\"', '\\\\\"').replace(\"'\", \"\\\\'\")\n",
    "    return f'{key}:\"{value}\"'\n",
    "\n",
    "# Apply the function to each match\n",
    "escaped_text = re.sub(pattern, double_escape_quotes, text)\n",
    "\n",
    "print(escaped_text)"
   ]
  },
  {
   "cell_type": "code",
   "execution_count": 28,
   "id": "0fcbb134-a90e-49d3-8a55-a81044c78a61",
   "metadata": {},
   "outputs": [
    {
     "name": "stdout",
     "output_type": "stream",
     "text": [
      "{\"characteristic\": \"1971 Topps Football\",\n",
      "\"explanation\": \"This product is a collectible 1971 Topps Football trading card featuring Adrian Young from the Philadelphia Eagles. The \"1971 Topps Football\" characteristic is important as it establishes the item's age, brand, and sport category, making it a valuable addition to any sports trading card collection.\"}\n"
     ]
    }
   ],
   "source": [
    "import re\n",
    "\n",
    "# Input string\n",
    "text = '''{\"characteristic\": \"1971 Topps Football\",\n",
    "\"explanation\": \"This product is a collectible 1971 Topps Football trading card featuring Adrian Young from the Philadelphia Eagles. The \"1971 Topps Football\" characteristic is important as it establishes the item's age, brand, and sport category, making it a valuable addition to any sports trading card collection.\"}'''\n",
    "\n",
    "# Regular expression to find the value of the \"explanation\" key\n",
    "pattern = r'(\"explanation\":\\s*\")(.*?)(\")'\n",
    "\n",
    "# Function to double-escape quotes within the \"explanation\" value\n",
    "def double_escape_quotes(match):\n",
    "    key = match.group(1)\n",
    "    value = match.group(2).replace('\"', '\\\\\"').replace(\"'\", \"\\\\'\")\n",
    "    return f'{key}{value}{match.group(3)}'\n",
    "\n",
    "# Apply the function to the \"explanation\" value\n",
    "escaped_text = re.sub(pattern, double_escape_quotes, text, flags=re.DOTALL)\n",
    "\n",
    "print(escaped_text)"
   ]
  },
  {
   "cell_type": "markdown",
   "id": "16bbfab6-a905-41e7-ade8-9b2fb46029e7",
   "metadata": {},
   "source": [
    "# Good - escaping"
   ]
  },
  {
   "cell_type": "code",
   "execution_count": 36,
   "id": "285ddf2c-bfa3-40de-af0a-cfdffbd5a363",
   "metadata": {},
   "outputs": [
    {
     "name": "stdout",
     "output_type": "stream",
     "text": [
      "{\"characteristic\": \"1971 Topps Football\",\n",
      "\"explanation\": \"This product is a collectible 1971 Topps Football trading card featuring Adrian Young from the Philadelphia Eagles. The \\\"1971 Topps Football\\\" characteristic is important as it establishes the item's age, brand, and sport category, making it a valuable addition to any sports trading card collection.\"}\n"
     ]
    }
   ],
   "source": [
    "import re\n",
    "\n",
    "# Input string\n",
    "text = '''{\"characteristic\": \"1971 Topps Football\",\n",
    "\"explanation\": \"This product is a collectible 1971 Topps Football trading card featuring Adrian Young from the Philadelphia Eagles. The \"1971 Topps Football\" characteristic is important as it establishes the item's age, brand, and sport category, making it a valuable addition to any sports trading card collection.\"}'''\n",
    "\n",
    "# Tokens\n",
    "tok_1 = '\"explanation\": \"'\n",
    "tok_2 = '\"}'\n",
    "\n",
    "# Regular expression to find the value of the \"explanation\" key\n",
    "pattern = re.escape(tok_1) + r'(.*?)' + re.escape(tok_2)\n",
    "\n",
    "# Function to double-escape quotes within the \"explanation\" value\n",
    "def double_escape_quotes(match):\n",
    "    value = match.group(1).replace('\"', '\\\\\"')\n",
    "    return f'{tok_1}{value}{tok_2}'\n",
    "\n",
    "# Apply the function to the \"explanation\" value\n",
    "escaped_text = re.sub(pattern, double_escape_quotes, text, flags=re.DOTALL)\n",
    "\n",
    "print(escaped_text)"
   ]
  },
  {
   "cell_type": "code",
   "execution_count": 34,
   "id": "60338b6c-2d82-4ba8-bf4b-ed4c14f6e6f4",
   "metadata": {},
   "outputs": [
    {
     "data": {
      "text/plain": [
       "[]"
      ]
     },
     "execution_count": 34,
     "metadata": {},
     "output_type": "execute_result"
    }
   ],
   "source": [
    "dict_pattern = r'\\{(?:\\s*\\'[^\\']*\\'\\s*:\\s*\\'[^\\']*\\'\\s*,?|\\s*\\\"[^\\\"]*\\\"\\s*:\\s*\\\"(?:[^\\\"\\\\]|\\\\.)*\\\"\\s*,?)*\\}'\n",
    "matches = re.findall(dict_pattern, escaped_text)\n",
    "matches"
   ]
  },
  {
   "cell_type": "code",
   "execution_count": null,
   "id": "d4d47573-8862-46da-8b55-c6de74708bb1",
   "metadata": {},
   "outputs": [],
   "source": [
    "find"
   ]
  },
  {
   "cell_type": "code",
   "execution_count": 41,
   "id": "b9e0975b-7a54-4715-8b18-1c970029dab2",
   "metadata": {},
   "outputs": [
    {
     "data": {
      "text/plain": [
       "{'characteristic': '1971 Topps Football',\n",
       " 'explanation': 'This product is a collectible 1971 Topps Football trading card featuring Adrian Young from the Philadelphia Eagles. The \"1971 Topps Football\" characteristic is important as it establishes the item\\'s age, brand, and sport category, making it a valuable addition to any sports trading card collection.'}"
      ]
     },
     "execution_count": 41,
     "metadata": {},
     "output_type": "execute_result"
    }
   ],
   "source": [
    "ast.literal_eval(escaped_text)"
   ]
  },
  {
   "cell_type": "code",
   "execution_count": 40,
   "id": "4350dee0-661d-4f96-ac49-099bc92f6652",
   "metadata": {},
   "outputs": [
    {
     "name": "stdout",
     "output_type": "stream",
     "text": [
      "Couldn't find a match to dict string in {\"characteristic\": \"1971 Topps Football\",\n",
      "\"explanation\": \"This product is a collectible 1971 Topps Football trading card featuring Adrian Young from the Philadelphia Eagles. The \\\"1971 Topps Football\\\" characteristic is important as it establishes the item's age, brand, and sport category, making it a valuable addition to any sports trading card collection.\"}\n"
     ]
    }
   ],
   "source": [
    "extract_first_dict(escaped_text)"
   ]
  },
  {
   "cell_type": "code",
   "execution_count": 42,
   "id": "0639a19a-b7b2-49f9-9c65-f9eec42b7d8b",
   "metadata": {},
   "outputs": [
    {
     "name": "stdout",
     "output_type": "stream",
     "text": [
      "{\"characteristic\": \"1971 Topps Football\",\n",
      "\"explanation\": \"This product is a collectible 1971 Topps Football trading card featuring Adrian Young from the Philadelphia Eagles. The \\\"1971 Topps Football\\\" characteristic is important as it establishes the item's age, brand, and sport category, making it a valuable addition to any sports trading card collection.\"}\n"
     ]
    }
   ],
   "source": [
    "import re\n",
    "\n",
    "# Input string\n",
    "text = '''{\"characteristic\": \"1971 Topps Football\",\n",
    "\"explanation\": \"This product is a collectible 1971 Topps Football trading card featuring Adrian Young from the Philadelphia Eagles. The \\\\\"1971 Topps Football\\\\\" characteristic is important as it establishes the item's age, brand, and sport category, making it a valuable addition to any sports trading card collection.\"} or another {\"characteristic\": \"19asd1 Topps Football\",\n",
    "\"explanation\": \"This product is a collectibasasdfle 1971 Topps Football trading card featuring Adrian Young from the Philadelasdfhia Eagles. The \\\\\"1971 Topps Football\\\\\" characteristic is important as it establisasdf hes the item's age, brand, and sport category, making it a valuable additioasdfasdfn to any sports trading card collection.\"}'''\n",
    "\n",
    "# Regular expression pattern to match dictionary-like substrings, allowing for escaped quotes\n",
    "dict_pattern = r'\\{(?:\\s*\\\"[^\\\"]*\\\"\\s*:\\s*\\\"(?:[^\\\"\\\\]|\\\\.)*\\\"\\s*,?)*\\}'\n",
    "\n",
    "# Find the first match\n",
    "match = re.search(dict_pattern, text)\n",
    "\n",
    "# Extract and print the first dictionary-like substring\n",
    "if match:\n",
    "    first_dict_str = match.group(0)\n",
    "    print(first_dict_str)\n",
    "else:\n",
    "    print(\"No dictionary-like string found.\")"
   ]
  },
  {
   "cell_type": "code",
   "execution_count": null,
   "id": "3f6eaf4f-e865-4562-a9e3-4598b8fb7384",
   "metadata": {},
   "outputs": [],
   "source": [
    "{\n",
    "\"characteristic\": \"12.5\\\" handle\",\n",
    "\"explanation\": \"The length of the handle provides a comfortable grip and leverage for effective hammering\"\n",
    "}\n",
    "\n",
    "Or, since the product's details mention both the handle length and the hammer head weight:\n",
    "\n",
    "{\n",
    "\"characteristic\": \"balance of power and precision\",\n",
    "\"explanation\": \"The specific combination of a 12.5\\\" handle and a 15 oz. head results in optimal force and control for various hammering tasks\"\n",
    "}"
   ]
  },
  {
   "cell_type": "markdown",
   "id": "fe4f24fa-c6fb-4191-bdf5-21a1843df8c5",
   "metadata": {},
   "source": [
    "## Two signals"
   ]
  },
  {
   "cell_type": "code",
   "execution_count": 43,
   "id": "80d436c4-17c0-4201-b4a4-33b7ed69e54d",
   "metadata": {},
   "outputs": [
    {
     "data": {
      "text/plain": [
       "' {\\n\"characteristic\": \"12.5\" handle\",\\n\"explanation\": \"The length of the handle provides a comfortable grip and leverage for effective hammering\"\\n}\\n\\nOr, since the product\\'s details mention both the handle length and the hammer head weight:\\n\\n{\\n\"characteristic\": \"balance of power and precision\",\\n\"explanation\": \"The specific combination of a 12.5\" handle and a 15 oz. head results in optimal force and control for various hammering tasks\"\\n} '"
      ]
     },
     "execution_count": 43,
     "metadata": {},
     "output_type": "execute_result"
    }
   ],
   "source": [
    "two_str = ''' {\n",
    "\"characteristic\": \"12.5\\\" handle\",\n",
    "\"explanation\": \"The length of the handle provides a comfortable grip and leverage for effective hammering\"\n",
    "}\n",
    "\n",
    "Or, since the product's details mention both the handle length and the hammer head weight:\n",
    "\n",
    "{\n",
    "\"characteristic\": \"balance of power and precision\",\n",
    "\"explanation\": \"The specific combination of a 12.5\\\" handle and a 15 oz. head results in optimal force and control for various hammering tasks\"\n",
    "} '''\n",
    "two_str"
   ]
  },
  {
   "cell_type": "code",
   "execution_count": 44,
   "id": "baf55924-3ace-4f64-8d51-1fad1133ff4f",
   "metadata": {},
   "outputs": [
    {
     "name": "stdout",
     "output_type": "stream",
     "text": [
      "asdf lre\\'s sdf\n"
     ]
    }
   ],
   "source": [
    "def escape_single_quotes(text):\n",
    "    return text.replace(\"'\", \"\\\\'\")\n",
    "\n",
    "# Example usage\n",
    "input_text = \"asdf lre's sdf\"\n",
    "escaped_text = escape_single_quotes(input_text)\n",
    "print(escaped_text)"
   ]
  },
  {
   "cell_type": "code",
   "execution_count": 62,
   "id": "3bae7ade-975a-4484-b36c-9b77eb172b4e",
   "metadata": {},
   "outputs": [],
   "source": [
    "escape_single_quotes(text)\n",
    "single_quotes_text = text.replace('\"characteristic\": \"', \"'characteristic': '\").replace('\",\\n\"explanation\": \"', \"',\\n'explanation': '\").replace('\"}',\"'}\" )"
   ]
  },
  {
   "cell_type": "code",
   "execution_count": 64,
   "id": "93813ce7-b0fb-4a43-ac31-a38e8b95ec87",
   "metadata": {},
   "outputs": [
    {
     "data": {
      "text/plain": [
       "'{\\'characteristic\\': \\'1971 Topps Football\\',\\n\\'explanation\\': \\'This product is a collectible 1971 Topps Football trading card featuring Adrian Young from the Philadelphia Eagles. The \"1971 Topps Football\" characteristic is important as it establishes the item\\'s age, brand, and sport category, making it a valuable addition to any sports trading card collection.\\'}'"
      ]
     },
     "execution_count": 64,
     "metadata": {},
     "output_type": "execute_result"
    }
   ],
   "source": [
    "single_quotes_text"
   ]
  },
  {
   "cell_type": "code",
   "execution_count": 68,
   "id": "dfa0a954-c10e-453f-a745-87311c369c62",
   "metadata": {},
   "outputs": [],
   "source": [
    "single_quotes_text = '''{'characteristic': '1971 Topps Football', 'explanation': 'This product is a collectible 1971 Topps Football trading card featuring Adrian Young from the Philadelphia Eagles. The \"1971 Topps Football\" characteristic is important as it establishes the item\\\\'s age, brand, and sport category, making it a valuable addition to any sports trading card collection.'}'''\n",
    "\n"
   ]
  },
  {
   "cell_type": "code",
   "execution_count": 69,
   "id": "098aa80f-9fdb-48d7-812c-9beed06bbd93",
   "metadata": {},
   "outputs": [
    {
     "data": {
      "text/plain": [
       "{'characteristic': '1971 Topps Football',\n",
       " 'explanation': 'This product is a collectible 1971 Topps Football trading card featuring Adrian Young from the Philadelphia Eagles. The \"1971 Topps Football\" characteristic is important as it establishes the item\\'s age, brand, and sport category, making it a valuable addition to any sports trading card collection.'}"
      ]
     },
     "execution_count": 69,
     "metadata": {},
     "output_type": "execute_result"
    }
   ],
   "source": [
    "ast.literal_eval(single_quotes_text)\n"
   ]
  },
  {
   "cell_type": "code",
   "execution_count": null,
   "id": "2526baf8-5558-4f86-8ab8-68052e18cf29",
   "metadata": {},
   "outputs": [],
   "source": []
  }
 ],
 "metadata": {
  "kernelspec": {
   "display_name": "Python 3 (ipykernel)",
   "language": "python",
   "name": "python3"
  },
  "language_info": {
   "codemirror_mode": {
    "name": "ipython",
    "version": 3
   },
   "file_extension": ".py",
   "mimetype": "text/x-python",
   "name": "python",
   "nbconvert_exporter": "python",
   "pygments_lexer": "ipython3",
   "version": "3.10.12"
  }
 },
 "nbformat": 4,
 "nbformat_minor": 5
}
