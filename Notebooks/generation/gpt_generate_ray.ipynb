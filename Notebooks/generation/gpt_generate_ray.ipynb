{
 "cells": [
  {
   "cell_type": "code",
   "execution_count": null,
   "id": "8689f4dd-3365-403c-b1ba-80472939435d",
   "metadata": {},
   "outputs": [],
   "source": [
    "import ray\n",
    "ray.init(runtime_env={\"env_vars\": {'ENV_CHOMSKY_KRYLOV_WORKSPACE': '1',\n",
    "                                   'APP_INST_NAME': 'krylovtessapp-instance',\n",
    "                                   'APP_ENV': 'pre-production',\n",
    "                                   'APP_NAME': 'krylovtessapp'}})"
   ]
  },
  {
   "cell_type": "code",
   "execution_count": 2,
   "id": "922aaf68-0531-480f-8d72-25dbe8922b50",
   "metadata": {},
   "outputs": [],
   "source": [
    "import warnings\n",
    "warnings.filterwarnings(\"ignore\")\n",
    "import os\n",
    "\n",
    "from pychomsky.chchat import EbayLLMChatWrapper, AzureOpenAIChatWrapper, GoogleGenAIWrapper"
   ]
  },
  {
   "cell_type": "code",
   "execution_count": 4,
   "id": "a8a3cd1c-706e-461d-8f78-2a7094202d5d",
   "metadata": {},
   "outputs": [
    {
     "name": "stderr",
     "output_type": "stream",
     "text": [
      "2025-02-20 09:04:49,914 WARN util.NativeCodeLoader: Unable to load native-hadoop library for your platform... using builtin-java classes where applicable\n",
      "2025-02-20 09:04:54,655 WARN shortcircuit.DomainSocketFactory: The short-circuit local reads feature cannot be used because libhadoop cannot be loaded.\n"
     ]
    },
    {
     "data": {
      "application/vnd.jupyter.widget-view+json": {
       "model_id": "84934dd2c261451082f01de4ad22758d",
       "version_major": 2,
       "version_minor": 0
      },
      "text/plain": [
       "Parquet Files Sample 0:   0%|          | 0.00/1.00 [00:00<?, ? file/s]"
      ]
     },
     "metadata": {},
     "output_type": "display_data"
    }
   ],
   "source": [
    "import pyarrow.fs as fs\n",
    "\n",
    "file_path = '/apps/b_perso/generative_signals/items_aspects_pdf_250206_fashion_1.parquet'\n",
    "\n",
    "hdfs = fs.HadoopFileSystem(\"default\")\n",
    "ds = ray.data.read_parquet(f'hdfs://{file_path}', filesystem=hdfs)"
   ]
  },
  {
   "cell_type": "code",
   "execution_count": 6,
   "id": "cdfb33d4-00e8-4d0c-a0d2-2bb99765449e",
   "metadata": {},
   "outputs": [],
   "source": [
    "num_signals_per_item = 3\n",
    "json_quotes_replacer = '\"'\n",
    "PROMPT_SUFFIX = f'''\n",
    "Given the product's details above, extract **up to {num_signals_per_item} distinct and compelling product characteristics** that would convince a buyer to make a purchase.\n",
    "If fewer than {num_signals_per_item} compelling characteristics are found, generate as many as possible.\n",
    "\n",
    "### **Before extracting, carefully evaluate each product characteristic step by step using the following rules:**  \n",
    "- **Each characteristic must be unique** and distinct from the others (no repetitions, no near-synonyms).  \n",
    "- **Each characteristic must appear exactly as written in the product's details** as a continuous sequence of words, n-gram, or permutation.  \n",
    "- **STRICT RULE:** Do not use any words or partial phrases from the title in the characteristic. If it appears in the title, discard it completely.  \n",
    "- **Prioritize valuable, informative, unique, and clear product features** that strongly encourage purchase (e.g.,\"High Quality Stainless Steel\", \"Premium Satin Paper\", \"Strong Durability\").   \n",
    "- **Ensure each characteristic provides new information** and avoids redundancy.  \n",
    "- **Avoid phrases that are vague, incomplete, open-ended, or missing context** (e.g., \"For Multiple\", \"Long Big\").    \n",
    "- **Avoid overly technical characteristics overloaded with numbers** (e.g., \"Model XZ-500435 4.3GHz\", \"150W 21V 65.80\"), unless they represent key product information. key numerical specifications that add product value are allowed (e.g., \"100%\", \"4mm\", \"2-Pack\", \"50cm\").  \n",
    "- **Avoid vague, redundant, or ambiguous characteristics** that lack specific product value (e.g., \"Handmade Yes\", \"For Multiple\",\"Actually Fits\").  \n",
    "- **Do NOT include product category words (e.g., \"Leash\", \"Towel\", \"Fabric\") if they are already in the title.** Instead, extract only the key descriptive characteristic (e.g., \"Very Durable\" instead of \"Very Durable Leash\").\n",
    "- **Each characteristic should be concise (up to 3 words)- longer characteristics are discouraged. **  \n",
    "\n",
    "---\n",
    "\n",
    "### **Examples of Good & Bad Characteristics**  \n",
    ":white_check_mark: **Good Characteristics (Concise, Informative, and Unique)**:  \n",
    "  - **Extra-Wide Elastic Edges** :white_check_mark: *(Describes a unique design feature for a better fit.)*  \n",
    "  - **Deep Wall Fitted Design** :white_check_mark: *(Highlights a functional aspect for mattress compatibility.)*  \n",
    "  - **100% Breathable Cotton** :white_check_mark: *(Emphasizes material quality for comfort.)*  \n",
    "  - **USDA Organic Certified** :white_check_mark: *(Adds credibility and trust to the product.)*  \n",
    "  - **Premium Printing Technologies** :white_check_mark: *(Showcases a high-quality production method.)* \n",
    "  - **Strong Durability** :white_check_mark: *(Emphasizes long-lasting quality, making the product a reliable investment, incentivizes purchase.)*\n",
    "\n",
    "\n",
    ":x: **Bad Characteristics → :white_check_mark: Better Alternatives**  \n",
    "- :x: **\"Actually Fits\"** *(Vague, lacks a specific feature.)* → :white_check_mark: **\"Extra-Wide Elastic Edges\"**  \n",
    "- :x: **\"Four Sizes And Options\"** *(Unclear, not a feature.)* → :white_check_mark: **\"Includes Bonus Small Bag\"** *(Highlights a tangible product benefit.)*  \n",
    "- :x: **\"Luxuriously Soft Towel\"** *(Reduandant as repeats \"Towel\" from the title.)* → :white_check_mark: **\"Luxuriously Soft\"** *(Concise, add new information.)*\n",
    "- :x: **\"Genuine OEM Replacement\"** *(Redaundant as repeats title words.)* → :white_check_mark: **\"Genuine Part\"** *(More concise and avoids title repetition.)*  \n",
    "\n",
    "---\n",
    "### **Output Format:**  \n",
    "Generate your response in **JSON format**, ensuring that each characteristic is returned separately with an explanation.\n",
    "\n",
    "{{{{  \n",
    "    {json_quotes_replacer}characteristic_1{json_quotes_replacer}: {json_quotes_replacer}first short characteristic{json_quotes_replacer}, \n",
    "    {json_quotes_replacer}explanation_1{json_quotes_replacer}: {json_quotes_replacer}Explanation of how this characteristic follows the extraction rules and where it appears in the product details{json_quotes_replacer},\n",
    "    ''' + \",\\n    \".join([\n",
    "        f\"{json_quotes_replacer}characteristic_{i}{json_quotes_replacer}: {json_quotes_replacer}{i} short characteristic{json_quotes_replacer},\\n\"\n",
    "        f\"{json_quotes_replacer}explanation_{i}{json_quotes_replacer}: {json_quotes_replacer}Explanation of how this characteristic follows the extraction rules and where it appears in the product details{json_quotes_replacer}\"\n",
    "        for i in range(2, num_signals_per_item + 1)\n",
    "    ]) + '''\n",
    "}}}}  \n",
    "'''\n",
    "\n",
    "ITEM_PROMPT_TEMPLATE = \"\"\"\n",
    "            You are an expert salesperson that always excels in providing the best buying tips to buyers given a product of interest they wish to buy. \n",
    "\n",
    "            Product details:\n",
    "            * Product title: {title}\n",
    "            * Product features: {features}\n",
    "            * Product description: {desc}\n",
    "            \"\"\""
   ]
  },
  {
   "cell_type": "code",
   "execution_count": null,
   "id": "bda5c351-d3cb-458b-87fd-e8b9912ef71a",
   "metadata": {},
   "outputs": [],
   "source": [
    "# MODEL_NAME = 'ebay-internal-chat-completions-sandbox-lilium-2-mix-7b-instruct' # this is a sandbox model\n",
    "MODEL_NAME = 'azure-chat-completions-gpt-4o-mini-2024-07-18-sandbox'\n",
    "CHOMSKY_ENDPOINT = 'https://chomskygw6cont.pp.vip.ebay.com/api/v1/genai' # pre-production\n",
    "\n",
    "class LLMRunner:\n",
    "    def __init__(self):\n",
    "        # self.elm = EbayLLMChatWrapper(model_name=MODEL_NAME, temperature=0.1)\n",
    "        self.elm = AzureOpenAIChatWrapper(model_name=MODEL_NAME, temperature=0.1)\n",
    "        self.elm.chgw_client.chgw_endpoint = CHOMSKY_ENDPOINT\n",
    "\n",
    "    def __call__(self, row):\n",
    "        try:\n",
    "            text = f\"{ITEM_PROMPT_TEMPLATE.format(title=row['title'], features=row['aspects'], desc=row['desc'])}{PROMPT_SUFFIX}\"\n",
    "            result = self.elm.invoke(text)\n",
    "            row['result'] = result.content\n",
    "            row['error'] = '' # not None to avoid PyArrow issues\n",
    "        except Exception as e:\n",
    "            print(e)\n",
    "            row['result'] = '' # not None to avoid PyArrow issues\n",
    "            row['error'] = str(e)\n",
    "            \n",
    "        return row"
   ]
  },
  {
   "cell_type": "code",
   "execution_count": null,
   "id": "a401aa9d-512d-4178-a341-d5fdab0581c1",
   "metadata": {},
   "outputs": [],
   "source": [
    "# Usually we care only for the number of Actors(processes) we run and how much CPU each takes\n",
    "# Here we are trying to calculate how much cpu each will take to reduce rate limits\n",
    "CPU_PER_NODE = 4\n",
    "AVG_INFER_TIME_SECS = 5\n",
    "RATE_PER_MINUTE = 300  # chomsky rate limit for lilium per IP\n",
    "\n",
    "CONCURRENCY_PER_NODE = int(RATE_PER_MINUTE / 60 * AVG_INFER_TIME_SECS) # 25\n",
    "NUM_CPUS_PER_ACTOR = CPU_PER_NODE / CONCURRENCY_PER_NODE # 0.16\n",
    "NUMBER_OF_NODES = 10\n",
    "\n",
    "\n",
    "ds_results = (\n",
    "    ds.map(\n",
    "        LLMRunner,\n",
    "        concurrency=CONCURRENCY_PER_NODE * NUMBER_OF_NODES,  # 250\n",
    "        num_cpus=NUM_CPUS_PER_ACTOR  # total of 250*0.16 = 40 CPUs == 10 nodes\n",
    "    )\n",
    ")"
   ]
  },
  {
   "cell_type": "code",
   "execution_count": 9,
   "id": "83f3102a-86fe-48db-bc8b-9fc8f491490b",
   "metadata": {},
   "outputs": [
    {
     "name": "stderr",
     "output_type": "stream",
     "text": [
      "2025-02-20 11:15:23,447\tWARNING plan.py:454 -- Warning: The Ray cluster currently does not have any available CPUs. The Dataset job will hang unless more CPUs are freed up. A common reason is that cluster resources are used by Actors or Tune trials; see the following link for more details: https://docs.ray.io/en/latest/data/data-internals.html#ray-data-and-tune\n",
      "2025-02-20 11:15:23,454\tINFO streaming_executor.py:108 -- Starting execution of Dataset. Full logs are in /tmp/ray/session_2025-02-20_07-37-03_341740_1/logs/ray-data\n",
      "2025-02-20 11:15:23,455\tINFO streaming_executor.py:109 -- Execution plan of Dataset: InputDataBuffer[Input] -> TaskPoolMapOperator[ReadParquet] -> ActorPoolMapOperator[Map(LLMRunner)] -> TaskPoolMapOperator[Write]\n"
     ]
    },
    {
     "data": {
      "application/vnd.jupyter.widget-view+json": {
       "model_id": "c13ac50ad40444cf81f4e1f7ff12541f",
       "version_major": 2,
       "version_minor": 0
      },
      "text/plain": [
       "Running 0: 0.00 row [00:00, ? row/s]"
      ]
     },
     "metadata": {},
     "output_type": "display_data"
    },
    {
     "data": {
      "application/vnd.jupyter.widget-view+json": {
       "model_id": "538387330c42406499a7435a42d81708",
       "version_major": 2,
       "version_minor": 0
      },
      "text/plain": [
       "- ReadParquet->SplitBlocks(49) 1: 0.00 row [00:00, ? row/s]"
      ]
     },
     "metadata": {},
     "output_type": "display_data"
    },
    {
     "data": {
      "application/vnd.jupyter.widget-view+json": {
       "model_id": "95b05e499cf54ecf968b96ed4d95ec24",
       "version_major": 2,
       "version_minor": 0
      },
      "text/plain": [
       "- Map(LLMRunner) 2: 0.00 row [00:00, ? row/s]"
      ]
     },
     "metadata": {},
     "output_type": "display_data"
    },
    {
     "data": {
      "application/vnd.jupyter.widget-view+json": {
       "model_id": "94c1500586084803b36e46526120f293",
       "version_major": 2,
       "version_minor": 0
      },
      "text/plain": [
       "- Write 3: 0.00 row [00:00, ? row/s]"
      ]
     },
     "metadata": {},
     "output_type": "display_data"
    },
    {
     "name": "stderr",
     "output_type": "stream",
     "text": [
      "2025-02-20 11:21:26,285\tWARNING __init__.py:160 -- DeprecationWarning: `ray.state.total_resources_per_node` is a private attribute and access will be removed in a future Ray version.\n",
      "2025-02-20 11:26:01,806\tWARNING actor_pool_map_operator.py:265 -- To ensure full parallelization across an actor pool of size 100, the Dataset should consist of at least 100 distinct blocks. Consider increasing the parallelism when creating the Dataset.\n"
     ]
    }
   ],
   "source": [
    "ds_results.write_parquet('hdfs:///apps/b_perso/generative_signals/ray_test.parquet', filesystem=hdfs)"
   ]
  },
  {
   "cell_type": "code",
   "execution_count": 10,
   "id": "1a2ef0e8-a709-49cd-8916-b2cfa5a7b5b1",
   "metadata": {},
   "outputs": [
    {
     "data": {
      "application/vnd.jupyter.widget-view+json": {
       "model_id": "b1ed912cdf0646e1a8886caaeab83be0",
       "version_major": 2,
       "version_minor": 0
      },
      "text/plain": [
       "Metadata Fetch Progress 0:   0%|          | 0.00/8.00 [00:00<?, ? task/s]"
      ]
     },
     "metadata": {},
     "output_type": "display_data"
    },
    {
     "data": {
      "application/vnd.jupyter.widget-view+json": {
       "model_id": "5a3f5b1a3d7d48b29810f03480c8437b",
       "version_major": 2,
       "version_minor": 0
      },
      "text/plain": [
       "Parquet Files Sample 0:   0%|          | 0.00/2.00 [00:00<?, ? file/s]"
      ]
     },
     "metadata": {},
     "output_type": "display_data"
    }
   ],
   "source": [
    "saved_results = ray.data.read_parquet('hdfs:///apps/b_perso/generative_signals/ray_test.parquet', filesystem=hdfs, columns=['title', 'desc', 'result', 'error'])"
   ]
  },
  {
   "cell_type": "code",
   "execution_count": 13,
   "id": "ea6dd886-2d79-40e1-9795-eb489f970b99",
   "metadata": {},
   "outputs": [
    {
     "name": "stderr",
     "output_type": "stream",
     "text": [
      "2025-02-20 11:27:09,868\tINFO dataset.py:2409 -- Tip: Use `take_batch()` instead of `take() / show()` to return records in pandas or numpy batch format.\n",
      "2025-02-20 11:27:09,876\tINFO streaming_executor.py:108 -- Starting execution of Dataset. Full logs are in /tmp/ray/session_2025-02-20_07-37-03_341740_1/logs/ray-data\n",
      "2025-02-20 11:27:09,876\tINFO streaming_executor.py:109 -- Execution plan of Dataset: InputDataBuffer[Input] -> TaskPoolMapOperator[ReadParquet] -> LimitOperator[limit=50]\n"
     ]
    },
    {
     "data": {
      "application/vnd.jupyter.widget-view+json": {
       "model_id": "a04e0240c2ad4d08b53c8c0b8d92a4c4",
       "version_major": 2,
       "version_minor": 0
      },
      "text/plain": [
       "Running 0: 0.00 row [00:00, ? row/s]"
      ]
     },
     "metadata": {},
     "output_type": "display_data"
    },
    {
     "data": {
      "application/vnd.jupyter.widget-view+json": {
       "model_id": "f08f1417214d4d35b30ee6ee82e28bcf",
       "version_major": 2,
       "version_minor": 0
      },
      "text/plain": [
       "- ReadParquet->SplitBlocks(2) 1: 0.00 row [00:00, ? row/s]"
      ]
     },
     "metadata": {},
     "output_type": "display_data"
    },
    {
     "data": {
      "application/vnd.jupyter.widget-view+json": {
       "model_id": "b1f960ec5e9d4dcd9ed18439ae915213",
       "version_major": 2,
       "version_minor": 0
      },
      "text/plain": [
       "- limit=50 2: 0.00 row [00:00, ? row/s]"
      ]
     },
     "metadata": {},
     "output_type": "display_data"
    }
   ],
   "source": [
    "results_list = saved_results.take(50)"
   ]
  },
  {
   "cell_type": "code",
   "execution_count": 15,
   "id": "6dfaac45-9387-47b4-871c-db53383fbcbf",
   "metadata": {},
   "outputs": [
    {
     "name": "stdout",
     "output_type": "stream",
     "text": [
      "Title: fashnzfab women's faux straw wood frame clutch\n",
      " Signals: ['High-Quality Polyurethane', 'Unique Faux Straw Frame', 'Versatile Styling']\n",
      "\n",
      "Title: disneyland sherpa fleece spirit jersey for adults size xl\n",
      " Signals: ['Puff ink logo', 'Heathered rib cuffs', 'Fleecy sherpa style']\n",
      "\n",
      "Title: pinup sailor hat mens one size black strapback cap dickie walker embroidered\n",
      " Signals: ['Good condition', 'Lightweight', 'Casual occasion']\n",
      "\n",
      "Title: women's slip on pointed toe pumps chunky heel lady court ol shoes plus size\n",
      " Signals: ['Non-slip', 'Comfort', 'Faux suede']\n",
      "\n",
      "Title: very vintage prada jacket nylon waterproof bag jacket size l\n",
      " Signals: ['Heavyweight', 'Nylon Waterproof', 'Insulation Material: Polyester']\n",
      "\n",
      "Title: vintage madye's glamour scuffs womens slippers sleep white size small (5.5-6.5)\n",
      " Signals: ['Condition: New', 'Original Box', 'Vintage']\n",
      "\n",
      "Title: dim supplement - dim - immune system supplement 2bottle\n",
      " Signals: ['Boost Immune System', 'Balances Hormone Levels', 'Supports Prostate Health']\n",
      "\n",
      "Title: vintage new york money clip\n",
      " Signals: ['High-quality materials', 'Perfect for securely holding', 'Touch of sophistication']\n",
      "\n",
      "Title: shein black & white dress size m 6\n",
      " Signals: ['Houndstooth Pattern', 'Bodycon Style', 'Machine Washable']\n",
      "\n",
      "Title: collection dismember band cotton gift for fan s-2345xl black t-shirt\n",
      " Signals: ['Premium 5.3 oz/yd² weight', 'Durable double-needle stitching', 'Professional DTG printing']\n",
      "\n"
     ]
    }
   ],
   "source": [
    "import re\n",
    "\n",
    "regex = r'\"characteristic_\\d+\":\\s*\"([^\"]*)\"'\n",
    "    \n",
    "for row in results_list[:10]:\n",
    "    matches = re.findall(regex, row['result'])\n",
    "    print(f\"Title: {row['title']}\\n Signals: {matches}\\n\")"
   ]
  },
  {
   "cell_type": "code",
   "execution_count": null,
   "id": "06b24e29-41c0-4283-aa8b-3a3493759cf5",
   "metadata": {},
   "outputs": [],
   "source": []
  }
 ],
 "metadata": {
  "kernelspec": {
   "display_name": "Python 3 (ipykernel)",
   "language": "python",
   "name": "python3"
  },
  "language_info": {
   "codemirror_mode": {
    "name": "ipython",
    "version": 3
   },
   "file_extension": ".py",
   "mimetype": "text/x-python",
   "name": "python",
   "nbconvert_exporter": "python",
   "pygments_lexer": "ipython3",
   "version": "3.10.16"
  }
 },
 "nbformat": 4,
 "nbformat_minor": 5
}
