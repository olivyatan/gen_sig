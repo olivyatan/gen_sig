{
 "cells": [
  {
   "cell_type": "markdown",
   "id": "a72fc24c-2fed-4950-a77b-89ecd086e097",
   "metadata": {},
   "source": [
    "# Setup"
   ]
  },
  {
   "cell_type": "code",
   "execution_count": 3,
   "id": "54fa3c92-6cd7-4a9c-ac3f-87c2edfb4bb9",
   "metadata": {},
   "outputs": [
    {
     "name": "stdout",
     "output_type": "stream",
     "text": [
      "__pycache__\n"
     ]
    }
   ],
   "source": [
    "#!ls /data/ebay/notebooks/olivyatan/Gen_signals/generative_signals/s_g_c"
   ]
  },
  {
   "cell_type": "code",
   "execution_count": 4,
   "id": "927c1bfc-1d4a-4eb4-a02d-bb4e711f7264",
   "metadata": {},
   "outputs": [],
   "source": [
    "#rm -r /data/ebay/notebooks/olivyatan/Gen_signals/generative_signals/s_g_c"
   ]
  },
  {
   "cell_type": "code",
   "execution_count": 7,
   "id": "acdb63b9-f85e-4729-9901-176fdaba46d7",
   "metadata": {},
   "outputs": [
    {
     "name": "stdout",
     "output_type": "stream",
     "text": [
      "__init__.py  __pycache__  generators  sigs_gen.py\n"
     ]
    }
   ],
   "source": [
    "! ls /data/ebay/data/olivyatan/Workspace/generative_signals/dev/generation"
   ]
  },
  {
   "cell_type": "code",
   "execution_count": 8,
   "id": "3ef89e82-9a3e-43bc-87de-0107aa202b60",
   "metadata": {},
   "outputs": [
    {
     "name": "stdout",
     "output_type": "stream",
     "text": [
      "__init__.py  __pycache__  generators  sigs_gen.py\n"
     ]
    }
   ],
   "source": [
    "!ls /data/ebay/notebooks/olivyatan/Gen_signals/generative_signals/dev/generation"
   ]
  },
  {
   "cell_type": "code",
   "execution_count": null,
   "id": "42c7d923-07bc-45cf-a6d6-45abb5bd41a1",
   "metadata": {},
   "outputs": [],
   "source": [
    "cp -r /data/ebay/data/olivyatan/Workspace/generative_signals/dev/generation/ /data/ebay/notebooks/olivyatan/Gen_signals/generative_signals/dev/"
   ]
  },
  {
   "cell_type": "code",
   "execution_count": 5,
   "id": "f83ce460-5f04-4cde-97db-992de7fbb603",
   "metadata": {},
   "outputs": [
    {
     "name": "stdout",
     "output_type": "stream",
     "text": [
      "/data/ebay/notebooks/olivyatan/Gen_signals/generative_signals/notebooks/generation\n"
     ]
    }
   ],
   "source": [
    "! pwd"
   ]
  },
  {
   "cell_type": "code",
   "execution_count": 22,
   "id": "1ce42c87-1863-4d2a-b7bc-309771f971e2",
   "metadata": {},
   "outputs": [
    {
     "name": "stdout",
     "output_type": "stream",
     "text": [
      "filtered_7k_df.parquet\t     sampled_filtered_df_small.parquet\n",
      "sampled_filtered_df.parquet\n"
     ]
    }
   ],
   "source": [
    "\n",
    "!ls /data/ebay/data/olivyatan/Datasets/sample_tagging_hg/"
   ]
  },
  {
   "cell_type": "code",
   "execution_count": 24,
   "id": "b2df02b0-754e-46d4-bac6-99e0a5632d72",
   "metadata": {},
   "outputs": [
    {
     "name": "stdout",
     "output_type": "stream",
     "text": [
      "/data/ebay/data/olivyatan/Datasets\n"
     ]
    }
   ],
   "source": [
    "cd /data/ebay/data/olivyatan/Datasets/ "
   ]
  },
  {
   "cell_type": "code",
   "execution_count": 26,
   "id": "1c5e61f7-991c-428a-8446-8ebdd98c46f2",
   "metadata": {},
   "outputs": [
    {
     "name": "stdout",
     "output_type": "stream",
     "text": [
      "hag  labeled_gen_data  sample_tagging_hg\n"
     ]
    }
   ],
   "source": [
    "!ls /data/ebay/data/olivyatan/Datasets/"
   ]
  },
  {
   "cell_type": "code",
   "execution_count": 25,
   "id": "de95ea8e-00b8-4f4a-a7c8-09400f9f5508",
   "metadata": {},
   "outputs": [],
   "source": [
    "# mkdir -p /data/ebay/data/olivyatan/Datasets/labeled_gen_data"
   ]
  },
  {
   "cell_type": "code",
   "execution_count": null,
   "id": "a4d5d942a0358324",
   "metadata": {
    "collapsed": false,
    "jupyter": {
     "outputs_hidden": false
    }
   },
   "outputs": [],
   "source": [
    "os.chdir(f\"/data/ebay/notebooks/olivyatan/Gen_signals/generative_signals_old/gpt_call_async\")"
   ]
  },
  {
   "cell_type": "code",
   "execution_count": 1,
   "id": "ec693a5852dfecc2",
   "metadata": {
    "collapsed": false,
    "jupyter": {
     "outputs_hidden": false
    }
   },
   "outputs": [
    {
     "name": "stdout",
     "output_type": "stream",
     "text": [
      "/data/ebay/notebooks/olivyatan/Gen_signals\n",
      "curr dir: /data/ebay/notebooks/olivyatan/Gen_signals/generative_signals\n"
     ]
    }
   ],
   "source": [
    "\n",
    "import sys\n",
    "import os\n",
    "\n",
    "tmp = !hostname\n",
    "if tmp[0].startswith('krylov'):\n",
    "    on_kry = True\n",
    "else: \n",
    "    on_kry = False\n",
    "    \n",
    "base_path = '/data/ebay/notebooks/olivyatan/Gen_signals'\n",
    "\n",
    "print(base_path)\n",
    "\n",
    "# sys.path.append(os.path.join(base_path, 'signals/'))\n",
    "# sys.path.append(os.path.join(base_path, 'signals/src'))\n",
    "sys.path.append(os.path.join(base_path, 'generative_signals/'))\n",
    "sys.path.append(os.path.join(base_path, 'generative_signals/src'))\n",
    "# sys.path.append(os.path.join(base_path, 'signals/workflows/pipelines/'))\n",
    "# sys.path.append(os.path.join(base_path, 'signals/workflows/global_utils/'))\n",
    "# sys.path.append(os.path.join(base_path, 'signals/workflows'))\n",
    "# sys.path.append(os.path.join(base_path, 'matans_sandbox/utils'))\n",
    "\n",
    "os.chdir(os.path.join(base_path,'generative_signals'))\n",
    "print(f\"curr dir: {os.getcwd()}\")"
   ]
  },
  {
   "cell_type": "code",
   "execution_count": 2,
   "id": "d49752a8-004f-4ee2-9471-8df3b6bbc4ec",
   "metadata": {
    "tags": []
   },
   "outputs": [
    {
     "data": {
      "text/plain": [
       "'/data/ebay/notebooks/olivyatan/Gen_signals/generative_signals'"
      ]
     },
     "execution_count": 2,
     "metadata": {},
     "output_type": "execute_result"
    }
   ],
   "source": [
    "import pandas as pd\n",
    "import warnings\n",
    "warnings.filterwarnings(\"ignore\")\n",
    "import os\n",
    "\n",
    "import sys\n",
    "import base64\n",
    "from bs4 import BeautifulSoup\n",
    "import re\n",
    "import json\n",
    "import os\n",
    "from datetime import datetime\n",
    "from functools import reduce\n",
    "from typing import List\n",
    "import gzip\n",
    "import numpy as np\n",
    "\n",
    "\n",
    "os.getcwd()"
   ]
  },
  {
   "cell_type": "code",
   "execution_count": 3,
   "id": "82eed80f-cae5-4d93-bae1-6f62189829d4",
   "metadata": {},
   "outputs": [],
   "source": [
    "from dev.generation.sigs_gen import *\n",
    "from dev.data_extraction.extraction_funcs import *"
   ]
  },
  {
   "cell_type": "code",
   "execution_count": 4,
   "id": "9e8221e0-ba61-469b-964e-e8d55a645f92",
   "metadata": {
    "scrolled": true
   },
   "outputs": [],
   "source": [
    "from dev.generation.generators import gpt_generator, mistral_generator"
   ]
  },
  {
   "cell_type": "code",
   "execution_count": 5,
   "id": "6a20dd0f-814e-4c99-976a-a530d167e7c9",
   "metadata": {},
   "outputs": [],
   "source": [
    "from gpt_call_async.async_gpt import main_gpt_call, GPTCaller"
   ]
  },
  {
   "cell_type": "markdown",
   "id": "0bd5bf1d-f4f0-48f1-875c-ec7f41f983cd",
   "metadata": {},
   "source": [
    "## Importlib"
   ]
  },
  {
   "cell_type": "code",
   "execution_count": 6,
   "id": "4e313f27-3f48-49ee-bcc9-84ddca00de73",
   "metadata": {},
   "outputs": [],
   "source": [
    "import importlib\n",
    "def refresh_module(module_name):\n",
    "    try:\n",
    "        module = importlib.import_module(module_name)\n",
    "        importlib.reload(module)\n",
    "        module = importlib.import_module(module_name)\n",
    "        globals().update(module.__dict__)\n",
    "    except ImportError as e:\n",
    "        print(f\"Error importing module {module_name}: {e}\")\n",
    "        return None"
   ]
  },
  {
   "cell_type": "code",
   "execution_count": 7,
   "id": "e6033133-8b5e-4dde-998c-02ae4eb92bdd",
   "metadata": {},
   "outputs": [
    {
     "data": {
      "text/plain": [
       "<module 'dev.generation.generators' from '/data/ebay/notebooks/olivyatan/Gen_signals/generative_signals/dev/generation/generators/__init__.py'>"
      ]
     },
     "execution_count": 7,
     "metadata": {},
     "output_type": "execute_result"
    }
   ],
   "source": [
    "import dev.generation.generators\n",
    "importlib.reload(dev.generation.generators)"
   ]
  },
  {
   "cell_type": "code",
   "execution_count": 8,
   "id": "9284fd54-72fd-4be8-8f1c-8e38443a9370",
   "metadata": {},
   "outputs": [],
   "source": [
    "import dev.data_extraction.extraction_funcs\n",
    "importlib.reload(dev.data_extraction.extraction_funcs)\n",
    "import dev.data_extraction.extraction_funcs\n",
    "from dev.data_extraction.extraction_funcs import *"
   ]
  },
  {
   "cell_type": "code",
   "execution_count": 9,
   "id": "aa9abe5f-ed03-47f4-b88a-0b243ae2a27d",
   "metadata": {},
   "outputs": [],
   "source": [
    "refresh_module('dev.data_extraction.extraction_funcs')"
   ]
  },
  {
   "cell_type": "code",
   "execution_count": 10,
   "id": "fb016a5c-d775-4572-9edc-dfe2e4f7f11a",
   "metadata": {},
   "outputs": [
    {
     "data": {
      "text/plain": [
       "<module 'dev.generation.sigs_gen' from '/data/ebay/notebooks/olivyatan/Gen_signals/generative_signals/dev/generation/sigs_gen.py'>"
      ]
     },
     "execution_count": 10,
     "metadata": {},
     "output_type": "execute_result"
    }
   ],
   "source": [
    "import dev.generation.sigs_gen\n",
    "importlib.reload(dev.generation.sigs_gen)\n",
    "# from generation.generators import gpt_generator, mistral_generator"
   ]
  },
  {
   "cell_type": "code",
   "execution_count": 11,
   "id": "c2f75683-97d4-4e48-a933-b70c7242fe2e",
   "metadata": {},
   "outputs": [],
   "source": [
    "refresh_module('dev.generation.generators.gpt_generator')"
   ]
  },
  {
   "cell_type": "code",
   "execution_count": 12,
   "id": "68eea796-573e-436d-b9a6-475d1588fc84",
   "metadata": {},
   "outputs": [
    {
     "data": {
      "text/plain": [
       "<module 'dev.generation.sigs_gen' from '/data/ebay/notebooks/olivyatan/Gen_signals/generative_signals/dev/generation/sigs_gen.py'>"
      ]
     },
     "execution_count": 12,
     "metadata": {},
     "output_type": "execute_result"
    }
   ],
   "source": [
    "import dev.generation.generators.gpt_generator\n",
    "importlib.reload(dev.generation.sigs_gen)"
   ]
  },
  {
   "cell_type": "code",
   "execution_count": 13,
   "id": "4c790325-344d-4149-8a55-4e7b8e65ceff",
   "metadata": {},
   "outputs": [],
   "source": [
    "import dev.generation.sigs_gen\n",
    "from dev.generation.sigs_gen import *"
   ]
  },
  {
   "cell_type": "code",
   "execution_count": 14,
   "id": "806ee26b-73d7-49bf-9ac2-9fb0674a6994",
   "metadata": {},
   "outputs": [],
   "source": [
    "import dev.generation.generators.base_sigs_generator\n",
    "importlib.reload(dev.generation.generators.base_sigs_generator)\n",
    "import dev.generation.generators.base_sigs_generator\n",
    "from dev.generation.generators.base_sigs_generator import *\n",
    "\n",
    "refresh_module('dev.generation.generators.base_sigs_generator')\n",
    "refresh_module('dev.generation.generators.gpt_generator')\n",
    "refresh_module('dev.generation.generators.mistral_generator')\n",
    "refresh_module('gpt_call_async.Chomsky')"
   ]
  },
  {
   "cell_type": "markdown",
   "id": "7b360bc1-37ad-4b6c-8358-b2b938c57145",
   "metadata": {
    "jp-MarkdownHeadingCollapsed": true,
    "tags": []
   },
   "source": [
    "## Generation example "
   ]
  },
  {
   "cell_type": "code",
   "execution_count": 4,
   "id": "6fdd48f0-9d8b-401c-b81d-796c694e93b1",
   "metadata": {},
   "outputs": [],
   "source": [
    "collct_df_amended_with_forbidden = pd.read_csv('data/Datasets/hag_pna_collct_09_24/ExtractedAmended/collct_us_09_27_with_forbidden.csv', index_col = 0)\n",
    "collct_df_amended_no_forbidden = pd.read_csv('data/Datasets/hag_pna_collct_09_24/ExtractedAmended/collct_us_09_27_no_forbidden.csv', index_col = 0)"
   ]
  },
  {
   "cell_type": "code",
   "execution_count": 8,
   "id": "007b48ab-e2b7-4220-b920-45c84cc8c125",
   "metadata": {
    "scrolled": true,
    "tags": []
   },
   "outputs": [
    {
     "name": "stdout",
     "output_type": "stream",
     "text": [
      "item: 325588874136\n",
      "Total number of rows: 1\n",
      "Chomsky Gateway Loaded\n",
      "Sending request for index: 0\n",
      "Received Response for index: 0\n",
      "item: 395617799670\n",
      "Total number of rows: 1\n",
      "Chomsky Gateway Loaded\n",
      "Sending request for index: 0\n",
      "Received Response for index: 0\n",
      "item: 233178516698\n",
      "Total number of rows: 1\n",
      "Chomsky Gateway Loaded\n",
      "Sending request for index: 0\n",
      "Received Response for index: 0\n",
      "item: 255454428356\n",
      "Total number of rows: 1\n",
      "Chomsky Gateway Loaded\n",
      "Sending request for index: 0\n",
      "Received Response for index: 0\n",
      "item: 354243289011\n",
      "Total number of rows: 1\n",
      "Chomsky Gateway Loaded\n",
      "Sending request for index: 0\n",
      "Received Response for index: 0\n",
      "item: 386711625626\n",
      "Total number of rows: 1\n",
      "Chomsky Gateway Loaded\n",
      "Sending request for index: 0\n",
      "Received Response for index: 0\n",
      "item: 116265155967\n",
      "Total number of rows: 1\n",
      "Chomsky Gateway Loaded\n",
      "Sending request for index: 0\n",
      "Received Response for index: 0\n",
      "item: 226162310319\n",
      "Total number of rows: 1\n",
      "Chomsky Gateway Loaded\n",
      "Sending request for index: 0\n",
      "Received Response for index: 0\n",
      "item: 224438285794\n",
      "Total number of rows: 1\n",
      "Chomsky Gateway Loaded\n",
      "Sending request for index: 0\n",
      "Received Response for index: 0\n",
      "item: 335547102837\n",
      "Total number of rows: 1\n",
      "Chomsky Gateway Loaded\n",
      "Sending request for index: 0\n",
      "Received Response for index: 0\n",
      "item: 296187515357\n",
      "Total number of rows: 1\n",
      "Chomsky Gateway Loaded\n",
      "Sending request for index: 0\n",
      "Received Response for index: 0\n",
      "item: 176304930441\n",
      "Total number of rows: 1\n",
      "Chomsky Gateway Loaded\n",
      "Sending request for index: 0\n",
      "Received Response for index: 0\n",
      "item: 354999806379\n",
      "Total number of rows: 1\n",
      "Chomsky Gateway Loaded\n",
      "Sending request for index: 0\n",
      "Received Response for index: 0\n",
      "item: 387118186226\n",
      "Total number of rows: 1\n",
      "Chomsky Gateway Loaded\n",
      "Sending request for index: 0\n",
      "Received Response for index: 0\n",
      "Sending request for index: 0\n",
      "Received Response for index: 0\n",
      "item: 135119969878\n",
      "Total number of rows: 1\n",
      "Chomsky Gateway Loaded\n",
      "Sending request for index: 0\n",
      "Received Response for index: 0\n",
      "item: 335546737087\n",
      "Total number of rows: 1\n",
      "Chomsky Gateway Loaded\n",
      "Sending request for index: 0\n",
      "Received Response for index: 0\n",
      "item: 196412010409\n",
      "Total number of rows: 1\n",
      "Chomsky Gateway Loaded\n",
      "Sending request for index: 0\n",
      "Received Response for index: 0\n",
      "item: 352069184792\n",
      "Total number of rows: 1\n",
      "Chomsky Gateway Loaded\n",
      "Sending request for index: 0\n",
      "Received Response for index: 0\n",
      "item: 375612645789\n",
      "Total number of rows: 1\n",
      "Chomsky Gateway Loaded\n",
      "Sending request for index: 0\n",
      "Received Response for index: 0\n",
      "item: 372448522932\n",
      "Total number of rows: 1\n",
      "Chomsky Gateway Loaded\n",
      "Sending request for index: 0\n",
      "Received Response for index: 0\n"
     ]
    }
   ],
   "source": [
    "outfile_with_forbidden = 'collct_with_forbidden_gpt_tmp'\n",
    "outfile_no_forbidden = 'collct_no_forbidden_gpt_temp'\n",
    "outpath_tmp_json = 'data/Datasets/hag_pna_collct_09_24/GenSigsData/JsonTemp'\n",
    "outpath_final = 'data/Datasets/hag_pna_collct_09_24/GenSigsData'\n",
    "\n",
    "collct_df_with_sigs_with_forbidden = await generate_signals_per_item(collct_df_amended_with_forbidden.sample(10), \n",
    "                                                      cols_for_prompt=['title', 'aspects', 'desc'], \n",
    "                                                      outfile=f'{outpath_tmp_json}/{outfile_with_forbidden}.jsonl',  model_name='gpt') \n",
    "collct_df_with_sigs_with_forbidden.to_parquet(f'{outpath_final}/{outfile_with_forbidden}.parquet')\n",
    "\n",
    "\n",
    "collct_df_with_sigs_no_forbidden = await generate_signals_per_item(collct_df_amended_no_forbidden.sample(10), \n",
    "                                                      cols_for_prompt=['title_no_forbidden', 'aspects_no_forbidden', 'desc_no_forbidden'], \n",
    "                                                      outfile=f'{outpath_tmp_json}/{outfile_no_forbidden}.jsonl',  model_name='gpt') \n",
    "collct_df_with_sigs_no_forbidden.to_parquet(f'{outpath_final}/{outfile_no_forbidden}.parquet')\n"
   ]
  },
  {
   "cell_type": "code",
   "execution_count": 9,
   "id": "434c5b5a-f4ba-4130-b540-750c56cd809e",
   "metadata": {
    "collapsed": true,
    "jupyter": {
     "outputs_hidden": true
    },
    "scrolled": true,
    "tags": []
   },
   "outputs": [
    {
     "data": {
      "text/html": [
       "<div>\n",
       "<style scoped>\n",
       "    .dataframe tbody tr th:only-of-type {\n",
       "        vertical-align: middle;\n",
       "    }\n",
       "\n",
       "    .dataframe tbody tr th {\n",
       "        vertical-align: top;\n",
       "    }\n",
       "\n",
       "    .dataframe thead th {\n",
       "        text-align: right;\n",
       "    }\n",
       "</style>\n",
       "<table border=\"1\" class=\"dataframe\">\n",
       "  <thead>\n",
       "    <tr style=\"text-align: right;\">\n",
       "      <th></th>\n",
       "      <th>item_id</th>\n",
       "      <th>item_desc</th>\n",
       "      <th>title</th>\n",
       "      <th>SUBTITLE</th>\n",
       "      <th>AUCT_START_DT</th>\n",
       "      <th>AUCT_END_DT</th>\n",
       "      <th>leaf_categ_id</th>\n",
       "      <th>ITEM_SITE_ID</th>\n",
       "      <th>bsns_vrtcl_name</th>\n",
       "      <th>meta_categ_id</th>\n",
       "      <th>GALLERY_URL</th>\n",
       "      <th>aspects</th>\n",
       "      <th>desc</th>\n",
       "      <th>desc_no_forbidden</th>\n",
       "      <th>title_no_forbidden</th>\n",
       "      <th>aspects_no_forbidden</th>\n",
       "      <th>gen_text_gpt</th>\n",
       "      <th>gen_sig_gpt</th>\n",
       "    </tr>\n",
       "  </thead>\n",
       "  <tbody>\n",
       "    <tr>\n",
       "      <th>2062</th>\n",
       "      <td>325588874136</td>\n",
       "      <td>PGRpdiBpZD0iZHNfZGl2Ij48Zm9udCByd3I9IjEiPjxmb2...</td>\n",
       "      <td>sudan 5 dinars 1993 p-51s specimen unc */*</td>\n",
       "      <td>NaN</td>\n",
       "      <td>2023-03-25</td>\n",
       "      <td>2024-09-25</td>\n",
       "      <td>3422</td>\n",
       "      <td>0</td>\n",
       "      <td>collectibles</td>\n",
       "      <td>11116</td>\n",
       "      <td>https://i.ebayimg.com/00/s/NzI2WDE2MDA=/z/VmkA...</td>\n",
       "      <td>{'circulated/uncirculated': 'uncirculated', 'c...</td>\n",
       "      <td>For paper money listings always (serial or pre...</td>\n",
       "      <td>it is available only for west europe .</td>\n",
       "      <td>sudan 5 dinars 1993 p-51s specimen unc */*</td>\n",
       "      <td>{'circulated/uncirculated': 'uncirculated', 'c...</td>\n",
       "      <td>{'characteristic': 'uncirculated specimen', 'e...</td>\n",
       "      <td>Uncirculated Specimen</td>\n",
       "    </tr>\n",
       "    <tr>\n",
       "      <th>7294</th>\n",
       "      <td>395617799670</td>\n",
       "      <td>PHA+PHNwYW4+PHNwYW4+PHNwYW4+PHNwYW4+PHNwYW4+PH...</td>\n",
       "      <td>ac/dc razors edge 1991 concert tour red after ...</td>\n",
       "      <td>NaN</td>\n",
       "      <td>2024-08-25</td>\n",
       "      <td>2024-09-25</td>\n",
       "      <td>104662</td>\n",
       "      <td>0</td>\n",
       "      <td>collectibles</td>\n",
       "      <td>45100</td>\n",
       "      <td>https://i.ebayimg.com/00/s/MTAyNlgxNjAw/z/e5sA...</td>\n",
       "      <td>{'artist/band': 'ac/dc', 'genre': 'rock &amp; pop'...</td>\n",
       "      <td>This listing is for a single backstage pass as...</td>\n",
       "      <td>please note....we ship on tuesdays and fridays...</td>\n",
       "      <td>NaN</td>\n",
       "      <td>{'artist/band': 'ac/dc', 'genre': 'rock &amp; pop'}</td>\n",
       "      <td>{'characteristic': 'backstage pass', 'explanat...</td>\n",
       "      <td>Backstage Pass</td>\n",
       "    </tr>\n",
       "    <tr>\n",
       "      <th>797</th>\n",
       "      <td>233178516698</td>\n",
       "      <td>PCFET0NUWVBFIGh0bWwgUFVCTElDICItLy9XM0MvL0RURC...</td>\n",
       "      <td>set of 52 put in order picture cards 1-4 sprin...</td>\n",
       "      <td>NaN</td>\n",
       "      <td>2019-03-25</td>\n",
       "      <td>2024-09-25</td>\n",
       "      <td>2518</td>\n",
       "      <td>0</td>\n",
       "      <td>collectibles</td>\n",
       "      <td>220</td>\n",
       "      <td>https://i.ebayimg.com/00/s/OTM3WDc0NQ==/z/Mq4A...</td>\n",
       "      <td>{'brand': 'unbranded', 'core_product_type': 'e...</td>\n",
       "      <td>Excellent condition Please look at all picture...</td>\n",
       "      <td>i look at all my items carefully. i take a clo...</td>\n",
       "      <td>NaN</td>\n",
       "      <td>{'core_product_type': 'educational toys', 'sub...</td>\n",
       "      <td>{'characteristic': 'Excellent condition', 'exp...</td>\n",
       "      <td>Excellent Condition</td>\n",
       "    </tr>\n",
       "    <tr>\n",
       "      <th>7420</th>\n",
       "      <td>255454428356</td>\n",
       "      <td>PHA+Sk9ITiBFTFdBWSAvIERBTiBNQVJJTk8gLSBORkwgU3...</td>\n",
       "      <td>john elway / dan marino - nfl starting lineup ...</td>\n",
       "      <td>NaN</td>\n",
       "      <td>2022-03-25</td>\n",
       "      <td>2024-09-25</td>\n",
       "      <td>261068</td>\n",
       "      <td>0</td>\n",
       "      <td>collectibles</td>\n",
       "      <td>220</td>\n",
       "      <td>https://i.ebayimg.com/00/s/MTYwMFgxMjAw/z/QCsA...</td>\n",
       "      <td>{'brand': 'hasbro', 'core_product_type': 'figu...</td>\n",
       "      <td>JOHN ELWAY / DAN MARINO - NFL Starting Lineup ...</td>\n",
       "      <td>unopened!</td>\n",
       "      <td>NaN</td>\n",
       "      <td>{'brand': 'hasbro', 'core_product_type': 'figu...</td>\n",
       "      <td>{'characteristic': 'Condition is 'New'', 'expl...</td>\n",
       "      <td>Condition Is 'New'</td>\n",
       "    </tr>\n",
       "    <tr>\n",
       "      <th>4833</th>\n",
       "      <td>354243289011</td>\n",
       "      <td>PCFET0NUWVBFIGh0bWw+CjxodG1sIGxhbmc9IiI+Cgo8aG...</td>\n",
       "      <td>lionel part  31-15 empty envelope  - fair - m62</td>\n",
       "      <td>NaN</td>\n",
       "      <td>2022-08-25</td>\n",
       "      <td>2024-09-25</td>\n",
       "      <td>262317</td>\n",
       "      <td>0</td>\n",
       "      <td>collectibles</td>\n",
       "      <td>220</td>\n",
       "      <td>https://i.ebayimg.com/00/s/OTYwWDEyODA=/z/aS4A...</td>\n",
       "      <td>{'brand': 'lionel', 'scale': '1:5', 'shop for'...</td>\n",
       "      <td>Click images to enlarge Description WE HAVE PU...</td>\n",
       "      <td>track page views with auctiva's counter</td>\n",
       "      <td>lionel part  31-15 empty envelope  - fair - m62</td>\n",
       "      <td>{'brand': 'lionel', 'scale': '1:5'}</td>\n",
       "      <td>{'characteristic': 'fair condition', 'explanat...</td>\n",
       "      <td>Fair Condition</td>\n",
       "    </tr>\n",
       "    <tr>\n",
       "      <th>7976</th>\n",
       "      <td>386711625626</td>\n",
       "      <td>PHA+QmFzZWQgb24gdGhlIGNvbmRpdGlvbiBvZiB0aGUgaX...</td>\n",
       "      <td>nerf atom blaster reactor with 3 balls 2003 ha...</td>\n",
       "      <td>NaN</td>\n",
       "      <td>2024-01-25</td>\n",
       "      <td>2024-09-25</td>\n",
       "      <td>158749</td>\n",
       "      <td>0</td>\n",
       "      <td>collectibles</td>\n",
       "      <td>220</td>\n",
       "      <td>https://i.ebayimg.com/00/s/MTYwMFgxNjAw/z/I-oA...</td>\n",
       "      <td>{'brand': 'nerf', 'core_product_type': 'outdoo...</td>\n",
       "      <td>Based on the condition of the item we have rat...</td>\n",
       "      <td>this may include light scratches and/ or scuffs.</td>\n",
       "      <td>nerf atom blaster reactor with 3 balls 2003 ha...</td>\n",
       "      <td>{'brand': 'nerf', 'year': '2003'}</td>\n",
       "      <td>{'characteristic': '100% authentic', 'explanat...</td>\n",
       "      <td>100% Authentic</td>\n",
       "    </tr>\n",
       "    <tr>\n",
       "      <th>6702</th>\n",
       "      <td>116265155967</td>\n",
       "      <td>PGZvbnQgc2l6ZT0iNCIgcndyPSIxIiBzdHlsZT0iZm9udC...</td>\n",
       "      <td>lasalle college vintage single swap playing ca...</td>\n",
       "      <td>NaN</td>\n",
       "      <td>2024-07-25</td>\n",
       "      <td>2024-09-25</td>\n",
       "      <td>183050</td>\n",
       "      <td>0</td>\n",
       "      <td>collectibles</td>\n",
       "      <td>1</td>\n",
       "      <td>https://i.ebayimg.com/00/s/MTYwMFgxMDU5/z/H20A...</td>\n",
       "      <td>{'card condition': 'very good', 'core_product_...</td>\n",
       "      <td>This listing is for 1 single card - NOT a deck...</td>\n",
       "      <td>this listing is for 1 single card - not a deck...</td>\n",
       "      <td>NaN</td>\n",
       "      <td>{'core_product_type': 'non-sports trading card...</td>\n",
       "      <td>{'characteristic': 'very good condition', 'exp...</td>\n",
       "      <td>Very Good Condition</td>\n",
       "    </tr>\n",
       "    <tr>\n",
       "      <th>4599</th>\n",
       "      <td>226162310319</td>\n",
       "      <td>PHA+U2V0IG9mIDYgQ29yZWxsZSBieSBDb3JuaW5nIGJsdW...</td>\n",
       "      <td>corelle blue sponge heart dinner plates set of...</td>\n",
       "      <td>NaN</td>\n",
       "      <td>2024-05-25</td>\n",
       "      <td>2024-09-25</td>\n",
       "      <td>262379</td>\n",
       "      <td>0</td>\n",
       "      <td>collectibles</td>\n",
       "      <td>870</td>\n",
       "      <td>https://i.ebayimg.com/00/s/MTYwMFgxNjAw/z/3zMA...</td>\n",
       "      <td>{'brand': 'corelle', 'color': 'white', 'core_p...</td>\n",
       "      <td>Set of 6 Corelle by Corning blue sponge heart ...</td>\n",
       "      <td>set of 6 corelle by corning blue sponge heart ...</td>\n",
       "      <td>NaN</td>\n",
       "      <td>{'brand': 'corelle', 'color': 'white', 'core_p...</td>\n",
       "      <td>{'characteristic': 'made in the USA', 'explana...</td>\n",
       "      <td>Made In The Usa</td>\n",
       "    </tr>\n",
       "    <tr>\n",
       "      <th>1826</th>\n",
       "      <td>224438285794</td>\n",
       "      <td>PHAgY2xhc3M9Ik1zb05vcm1hbCIgc3R5bGU9InRleHQtYW...</td>\n",
       "      <td>dealer's choice - mp19-en135 - common - 1st ed...</td>\n",
       "      <td>NaN</td>\n",
       "      <td>2021-04-25</td>\n",
       "      <td>2024-09-25</td>\n",
       "      <td>183454</td>\n",
       "      <td>0</td>\n",
       "      <td>collectibles</td>\n",
       "      <td>220</td>\n",
       "      <td>https://i.ebayimg.com/00/s/NzAwWDQ4MQ==/z/Va0A...</td>\n",
       "      <td>{'attribute/mtg:color': 'trap', 'card conditio...</td>\n",
       "      <td>Please, carefully read the following: Image sh...</td>\n",
       "      <td>we do not ship on weekends and holidays. a nea...</td>\n",
       "      <td>NaN</td>\n",
       "      <td>{'attribute/mtg:color': 'trap', 'card number':...</td>\n",
       "      <td>{'characteristic': 'near mint or better', 'exp...</td>\n",
       "      <td>Near Mint Or Better</td>\n",
       "    </tr>\n",
       "    <tr>\n",
       "      <th>4096</th>\n",
       "      <td>335547102837</td>\n",
       "      <td>CiAgICA8c3R5bGU+CgogICAgICAgICNjb21jQm9keSB7Ci...</td>\n",
       "      <td>2007 ud premier penmanship bronze /75 john bec...</td>\n",
       "      <td>fulfilled by comc - world’s largest consignmen...</td>\n",
       "      <td>2024-08-25</td>\n",
       "      <td>2024-09-25</td>\n",
       "      <td>261328</td>\n",
       "      <td>0</td>\n",
       "      <td>collectibles</td>\n",
       "      <td>64482</td>\n",
       "      <td>https://i.ebayimg.com/00/s/NTQwWDc2MA==/z/ZkAA...</td>\n",
       "      <td>{'autographed': 'yes', 'brand': 'upper deck', ...</td>\n",
       "      <td>2007 UD Premier - Penmanship - Bronze #PP-JB J...</td>\n",
       "      <td>a nm-mt card appears to be mint at first glanc...</td>\n",
       "      <td>2007 ud premier penmanship bronze /75 john bec...</td>\n",
       "      <td>{'autographed': 'yes', 'brand': 'upper deck', ...</td>\n",
       "      <td>{'characteristic': 'autographed rookie card', ...</td>\n",
       "      <td>Autographed Rookie Card</td>\n",
       "    </tr>\n",
       "  </tbody>\n",
       "</table>\n",
       "</div>"
      ],
      "text/plain": [
       "           item_id                                          item_desc  \\\n",
       "2062  325588874136  PGRpdiBpZD0iZHNfZGl2Ij48Zm9udCByd3I9IjEiPjxmb2...   \n",
       "7294  395617799670  PHA+PHNwYW4+PHNwYW4+PHNwYW4+PHNwYW4+PHNwYW4+PH...   \n",
       "797   233178516698  PCFET0NUWVBFIGh0bWwgUFVCTElDICItLy9XM0MvL0RURC...   \n",
       "7420  255454428356  PHA+Sk9ITiBFTFdBWSAvIERBTiBNQVJJTk8gLSBORkwgU3...   \n",
       "4833  354243289011  PCFET0NUWVBFIGh0bWw+CjxodG1sIGxhbmc9IiI+Cgo8aG...   \n",
       "7976  386711625626  PHA+QmFzZWQgb24gdGhlIGNvbmRpdGlvbiBvZiB0aGUgaX...   \n",
       "6702  116265155967  PGZvbnQgc2l6ZT0iNCIgcndyPSIxIiBzdHlsZT0iZm9udC...   \n",
       "4599  226162310319  PHA+U2V0IG9mIDYgQ29yZWxsZSBieSBDb3JuaW5nIGJsdW...   \n",
       "1826  224438285794  PHAgY2xhc3M9Ik1zb05vcm1hbCIgc3R5bGU9InRleHQtYW...   \n",
       "4096  335547102837  CiAgICA8c3R5bGU+CgogICAgICAgICNjb21jQm9keSB7Ci...   \n",
       "\n",
       "                                                  title  \\\n",
       "2062         sudan 5 dinars 1993 p-51s specimen unc */*   \n",
       "7294  ac/dc razors edge 1991 concert tour red after ...   \n",
       "797   set of 52 put in order picture cards 1-4 sprin...   \n",
       "7420  john elway / dan marino - nfl starting lineup ...   \n",
       "4833    lionel part  31-15 empty envelope  - fair - m62   \n",
       "7976  nerf atom blaster reactor with 3 balls 2003 ha...   \n",
       "6702  lasalle college vintage single swap playing ca...   \n",
       "4599  corelle blue sponge heart dinner plates set of...   \n",
       "1826  dealer's choice - mp19-en135 - common - 1st ed...   \n",
       "4096  2007 ud premier penmanship bronze /75 john bec...   \n",
       "\n",
       "                                               SUBTITLE AUCT_START_DT  \\\n",
       "2062                                                NaN    2023-03-25   \n",
       "7294                                                NaN    2024-08-25   \n",
       "797                                                 NaN    2019-03-25   \n",
       "7420                                                NaN    2022-03-25   \n",
       "4833                                                NaN    2022-08-25   \n",
       "7976                                                NaN    2024-01-25   \n",
       "6702                                                NaN    2024-07-25   \n",
       "4599                                                NaN    2024-05-25   \n",
       "1826                                                NaN    2021-04-25   \n",
       "4096  fulfilled by comc - world’s largest consignmen...    2024-08-25   \n",
       "\n",
       "     AUCT_END_DT  leaf_categ_id  ITEM_SITE_ID bsns_vrtcl_name  meta_categ_id  \\\n",
       "2062  2024-09-25           3422             0    collectibles          11116   \n",
       "7294  2024-09-25         104662             0    collectibles          45100   \n",
       "797   2024-09-25           2518             0    collectibles            220   \n",
       "7420  2024-09-25         261068             0    collectibles            220   \n",
       "4833  2024-09-25         262317             0    collectibles            220   \n",
       "7976  2024-09-25         158749             0    collectibles            220   \n",
       "6702  2024-09-25         183050             0    collectibles              1   \n",
       "4599  2024-09-25         262379             0    collectibles            870   \n",
       "1826  2024-09-25         183454             0    collectibles            220   \n",
       "4096  2024-09-25         261328             0    collectibles          64482   \n",
       "\n",
       "                                            GALLERY_URL  \\\n",
       "2062  https://i.ebayimg.com/00/s/NzI2WDE2MDA=/z/VmkA...   \n",
       "7294  https://i.ebayimg.com/00/s/MTAyNlgxNjAw/z/e5sA...   \n",
       "797   https://i.ebayimg.com/00/s/OTM3WDc0NQ==/z/Mq4A...   \n",
       "7420  https://i.ebayimg.com/00/s/MTYwMFgxMjAw/z/QCsA...   \n",
       "4833  https://i.ebayimg.com/00/s/OTYwWDEyODA=/z/aS4A...   \n",
       "7976  https://i.ebayimg.com/00/s/MTYwMFgxNjAw/z/I-oA...   \n",
       "6702  https://i.ebayimg.com/00/s/MTYwMFgxMDU5/z/H20A...   \n",
       "4599  https://i.ebayimg.com/00/s/MTYwMFgxNjAw/z/3zMA...   \n",
       "1826  https://i.ebayimg.com/00/s/NzAwWDQ4MQ==/z/Va0A...   \n",
       "4096  https://i.ebayimg.com/00/s/NTQwWDc2MA==/z/ZkAA...   \n",
       "\n",
       "                                                aspects  \\\n",
       "2062  {'circulated/uncirculated': 'uncirculated', 'c...   \n",
       "7294  {'artist/band': 'ac/dc', 'genre': 'rock & pop'...   \n",
       "797   {'brand': 'unbranded', 'core_product_type': 'e...   \n",
       "7420  {'brand': 'hasbro', 'core_product_type': 'figu...   \n",
       "4833  {'brand': 'lionel', 'scale': '1:5', 'shop for'...   \n",
       "7976  {'brand': 'nerf', 'core_product_type': 'outdoo...   \n",
       "6702  {'card condition': 'very good', 'core_product_...   \n",
       "4599  {'brand': 'corelle', 'color': 'white', 'core_p...   \n",
       "1826  {'attribute/mtg:color': 'trap', 'card conditio...   \n",
       "4096  {'autographed': 'yes', 'brand': 'upper deck', ...   \n",
       "\n",
       "                                                   desc  \\\n",
       "2062  For paper money listings always (serial or pre...   \n",
       "7294  This listing is for a single backstage pass as...   \n",
       "797   Excellent condition Please look at all picture...   \n",
       "7420  JOHN ELWAY / DAN MARINO - NFL Starting Lineup ...   \n",
       "4833  Click images to enlarge Description WE HAVE PU...   \n",
       "7976  Based on the condition of the item we have rat...   \n",
       "6702  This listing is for 1 single card - NOT a deck...   \n",
       "4599  Set of 6 Corelle by Corning blue sponge heart ...   \n",
       "1826  Please, carefully read the following: Image sh...   \n",
       "4096  2007 UD Premier - Penmanship - Bronze #PP-JB J...   \n",
       "\n",
       "                                      desc_no_forbidden  \\\n",
       "2062             it is available only for west europe .   \n",
       "7294  please note....we ship on tuesdays and fridays...   \n",
       "797   i look at all my items carefully. i take a clo...   \n",
       "7420                                          unopened!   \n",
       "4833            track page views with auctiva's counter   \n",
       "7976   this may include light scratches and/ or scuffs.   \n",
       "6702  this listing is for 1 single card - not a deck...   \n",
       "4599  set of 6 corelle by corning blue sponge heart ...   \n",
       "1826  we do not ship on weekends and holidays. a nea...   \n",
       "4096  a nm-mt card appears to be mint at first glanc...   \n",
       "\n",
       "                                     title_no_forbidden  \\\n",
       "2062         sudan 5 dinars 1993 p-51s specimen unc */*   \n",
       "7294                                                NaN   \n",
       "797                                                 NaN   \n",
       "7420                                                NaN   \n",
       "4833    lionel part  31-15 empty envelope  - fair - m62   \n",
       "7976  nerf atom blaster reactor with 3 balls 2003 ha...   \n",
       "6702                                                NaN   \n",
       "4599                                                NaN   \n",
       "1826                                                NaN   \n",
       "4096  2007 ud premier penmanship bronze /75 john bec...   \n",
       "\n",
       "                                   aspects_no_forbidden  \\\n",
       "2062  {'circulated/uncirculated': 'uncirculated', 'c...   \n",
       "7294    {'artist/band': 'ac/dc', 'genre': 'rock & pop'}   \n",
       "797   {'core_product_type': 'educational toys', 'sub...   \n",
       "7420  {'brand': 'hasbro', 'core_product_type': 'figu...   \n",
       "4833                {'brand': 'lionel', 'scale': '1:5'}   \n",
       "7976                  {'brand': 'nerf', 'year': '2003'}   \n",
       "6702  {'core_product_type': 'non-sports trading card...   \n",
       "4599  {'brand': 'corelle', 'color': 'white', 'core_p...   \n",
       "1826  {'attribute/mtg:color': 'trap', 'card number':...   \n",
       "4096  {'autographed': 'yes', 'brand': 'upper deck', ...   \n",
       "\n",
       "                                           gen_text_gpt  \\\n",
       "2062  {'characteristic': 'uncirculated specimen', 'e...   \n",
       "7294  {'characteristic': 'backstage pass', 'explanat...   \n",
       "797   {'characteristic': 'Excellent condition', 'exp...   \n",
       "7420  {'characteristic': 'Condition is 'New'', 'expl...   \n",
       "4833  {'characteristic': 'fair condition', 'explanat...   \n",
       "7976  {'characteristic': '100% authentic', 'explanat...   \n",
       "6702  {'characteristic': 'very good condition', 'exp...   \n",
       "4599  {'characteristic': 'made in the USA', 'explana...   \n",
       "1826  {'characteristic': 'near mint or better', 'exp...   \n",
       "4096  {'characteristic': 'autographed rookie card', ...   \n",
       "\n",
       "                  gen_sig_gpt  \n",
       "2062    Uncirculated Specimen  \n",
       "7294           Backstage Pass  \n",
       "797       Excellent Condition  \n",
       "7420       Condition Is 'New'  \n",
       "4833           Fair Condition  \n",
       "7976           100% Authentic  \n",
       "6702      Very Good Condition  \n",
       "4599          Made In The Usa  \n",
       "1826      Near Mint Or Better  \n",
       "4096  Autographed Rookie Card  "
      ]
     },
     "execution_count": 9,
     "metadata": {},
     "output_type": "execute_result"
    }
   ],
   "source": [
    "collct_df_with_sigs_with_forbidden"
   ]
  },
  {
   "cell_type": "markdown",
   "id": "6e405cc1-88fc-4f3c-9c99-4a11a593ba92",
   "metadata": {
    "jp-MarkdownHeadingCollapsed": true,
    "tags": []
   },
   "source": [
    "#### tests: "
   ]
  },
  {
   "cell_type": "code",
   "execution_count": 1,
   "id": "bf35f171-96d0-4ab1-9e61-8d85baee67d2",
   "metadata": {},
   "outputs": [],
   "source": [
    "import os\n",
    "os.environ['ENV_CHOMSKY_KRYLOV_WORKSPACE'] = '1'\n",
    "os.environ['APP_INST_NAME'] = 'krylovtessapp-instance'\n",
    "os.environ['APP_ENV'] = 'pre-production'\n",
    "os.environ['APP_NAME'] = 'krylovtessapp'"
   ]
  },
  {
   "cell_type": "code",
   "execution_count": 2,
   "id": "f066b437-b6d7-45e6-8908-f551430a6e9f",
   "metadata": {},
   "outputs": [
    {
     "data": {
      "text/plain": [
       "AIMessage(content=\" Introducing the Red Shoe, a stylish and comfortable women's slip-on shoe that is perfect for any casual occasion. The Red Shoe features a sleek and modern design with a round toe and a low-cut vamp, making it a versatile addition to any outfit.\\n\\nCrafted with a soft and breathable leather upper, the Red Shoe provides all-day comfort and support. The cushioned footbed ensures a comfortable fit, while the rubber outsole provides excellent traction and durability.\\n\\nThe Red Shoe is available in a range of sizes and colors, so you can find the perfect pair to match your personal style. Whether you're dressing up or dressing down, the Red Shoe is the perfect choice for any occasion.\\n\\nWith its sleek design and comfortable fit, the Red Shoe is the perfect addition to any wardrobe. So why wait? Slip into the Red Shoe and elevate your style today! \", response_metadata={'model_name': 'ebay-internal-chat-completions-sandbox-lilium-2-mix-7b-instruct', 'token_usage': {'completion_tokens': 183, 'prompt_tokens': 16, 'total_tokens': 199}}, id='run-1441c3ea-744d-4d5e-8e80-2b94a22bbf22-0')"
      ]
     },
     "execution_count": 2,
     "metadata": {},
     "output_type": "execute_result"
    }
   ],
   "source": [
    "from pychomsky.chchat import EbayLLMChatWrapper # for azure use AzureOpenAIChatWrapper\n",
    "model = 'ebay-internal-chat-completions-sandbox-lilium-2-mix-7b-instruct' # this is a sandbox model\n",
    "elm = EbayLLMChatWrapper(model_name=model, temperature=0.2, max_tokens=256)\n",
    "elm.chgw_client.chgw_endpoint = 'https://chomskygw6cont.pp.vip.ebay.com/api/v1/genai' # pre-production\n",
    "elm.invoke(\"write product description for red shoe\")"
   ]
  },
  {
   "cell_type": "code",
   "execution_count": 6,
   "id": "75b7bdd0-1c4f-4147-916b-0a28e2b00210",
   "metadata": {},
   "outputs": [],
   "source": [
    "import os\n",
    "os.environ[\"no_proxy\"] = \"localhost,127.0.0.1,.ebay.com,.vip,.ebayc3.com\"\n",
    "os.environ[\"https_proxy\"] = \"http://httpproxy-tcop.vip.ebay.com:80\""
   ]
  },
  {
   "cell_type": "code",
   "execution_count": 7,
   "id": "a02a21c8-4070-4c9e-bc16-cfa1cc51bdc3",
   "metadata": {
    "scrolled": true,
    "tags": []
   },
   "outputs": [
    {
     "name": "stdout",
     "output_type": "stream",
     "text": [
      "Defaulting to user installation because normal site-packages is not writeable\n",
      "Looking in indexes: https://pypi.python.org/simple\n",
      "Collecting langchain==0.1.9\n",
      "  Downloading langchain-0.1.9-py3-none-any.whl.metadata (13 kB)\n",
      "Requirement already satisfied: PyYAML>=5.3 in /opt/clients/pykrylov/3.10/1.5.6/install (from langchain==0.1.9) (6.0.2)\n",
      "Requirement already satisfied: SQLAlchemy<3,>=1.4 in /opt/conda/lib/python3.10/site-packages (from langchain==0.1.9) (1.4.28)\n",
      "Requirement already satisfied: aiohttp<4.0.0,>=3.8.3 in /opt/conda/lib/python3.10/site-packages (from langchain==0.1.9) (3.10.10)\n",
      "Requirement already satisfied: async-timeout<5.0.0,>=4.0.0 in /opt/conda/lib/python3.10/site-packages (from langchain==0.1.9) (4.0.3)\n",
      "Collecting dataclasses-json<0.7,>=0.5.7 (from langchain==0.1.9)\n",
      "  Downloading dataclasses_json-0.6.7-py3-none-any.whl.metadata (25 kB)\n",
      "Requirement already satisfied: jsonpatch<2.0,>=1.33 in /home/olivyatan/.local/lib/python3.10/site-packages (from langchain==0.1.9) (1.33)\n",
      "Collecting langchain-community<0.1,>=0.0.21 (from langchain==0.1.9)\n",
      "  Downloading langchain_community-0.0.38-py3-none-any.whl.metadata (8.7 kB)\n",
      "Collecting langchain-core<0.2,>=0.1.26 (from langchain==0.1.9)\n",
      "  Downloading langchain_core-0.1.53-py3-none-any.whl.metadata (5.9 kB)\n",
      "Collecting langsmith<0.2.0,>=0.1.0 (from langchain==0.1.9)\n",
      "  Downloading langsmith-0.1.147-py3-none-any.whl.metadata (14 kB)\n",
      "Requirement already satisfied: numpy<2,>=1 in /opt/conda/lib/python3.10/site-packages (from langchain==0.1.9) (1.26.4)\n",
      "Requirement already satisfied: pydantic<3,>=1 in /opt/conda/lib/python3.10/site-packages (from langchain==0.1.9) (2.10.5)\n",
      "Requirement already satisfied: requests<3,>=2 in /opt/clients/pykrylov/3.10/1.5.6/install (from langchain==0.1.9) (2.32.3)\n",
      "Requirement already satisfied: tenacity<9.0.0,>=8.1.0 in /opt/conda/lib/python3.10/site-packages (from langchain==0.1.9) (8.5.0)\n",
      "Requirement already satisfied: aiohappyeyeballs>=2.3.0 in /opt/conda/lib/python3.10/site-packages (from aiohttp<4.0.0,>=3.8.3->langchain==0.1.9) (2.4.4)\n",
      "Requirement already satisfied: aiosignal>=1.1.2 in /opt/conda/lib/python3.10/site-packages (from aiohttp<4.0.0,>=3.8.3->langchain==0.1.9) (1.3.1)\n",
      "Requirement already satisfied: attrs>=17.3.0 in /opt/conda/lib/python3.10/site-packages (from aiohttp<4.0.0,>=3.8.3->langchain==0.1.9) (23.1.0)\n",
      "Requirement already satisfied: frozenlist>=1.1.1 in /opt/conda/lib/python3.10/site-packages (from aiohttp<4.0.0,>=3.8.3->langchain==0.1.9) (1.4.0)\n",
      "Requirement already satisfied: multidict<7.0,>=4.5 in /opt/conda/lib/python3.10/site-packages (from aiohttp<4.0.0,>=3.8.3->langchain==0.1.9) (6.0.4)\n",
      "Requirement already satisfied: yarl<2.0,>=1.12.0 in /opt/conda/lib/python3.10/site-packages (from aiohttp<4.0.0,>=3.8.3->langchain==0.1.9) (1.18.3)\n",
      "Collecting marshmallow<4.0.0,>=3.18.0 (from dataclasses-json<0.7,>=0.5.7->langchain==0.1.9)\n",
      "  Downloading marshmallow-3.26.0-py3-none-any.whl.metadata (7.3 kB)\n",
      "Collecting typing-inspect<1,>=0.4.0 (from dataclasses-json<0.7,>=0.5.7->langchain==0.1.9)\n",
      "  Downloading typing_inspect-0.9.0-py3-none-any.whl.metadata (1.5 kB)\n",
      "Requirement already satisfied: jsonpointer>=1.9 in /opt/conda/lib/python3.10/site-packages (from jsonpatch<2.0,>=1.33->langchain==0.1.9) (2.1)\n",
      "Collecting packaging<24.0,>=23.2 (from langchain-core<0.2,>=0.1.26->langchain==0.1.9)\n",
      "  Downloading packaging-23.2-py3-none-any.whl.metadata (3.2 kB)\n",
      "Requirement already satisfied: httpx<1,>=0.23.0 in /home/olivyatan/.local/lib/python3.10/site-packages (from langsmith<0.2.0,>=0.1.0->langchain==0.1.9) (0.28.1)\n",
      "Requirement already satisfied: orjson<4.0.0,>=3.9.14 in /opt/conda/lib/python3.10/site-packages (from langsmith<0.2.0,>=0.1.0->langchain==0.1.9) (3.10.15)\n",
      "Requirement already satisfied: requests-toolbelt<2.0.0,>=1.0.0 in /opt/clients/pykrylov/3.10/1.5.6/install (from langsmith<0.2.0,>=0.1.0->langchain==0.1.9) (1.0.0)\n",
      "Requirement already satisfied: annotated-types>=0.6.0 in /opt/conda/lib/python3.10/site-packages (from pydantic<3,>=1->langchain==0.1.9) (0.7.0)\n",
      "Requirement already satisfied: pydantic-core==2.27.2 in /opt/conda/lib/python3.10/site-packages (from pydantic<3,>=1->langchain==0.1.9) (2.27.2)\n",
      "Requirement already satisfied: typing-extensions>=4.12.2 in /opt/conda/lib/python3.10/site-packages (from pydantic<3,>=1->langchain==0.1.9) (4.12.2)\n",
      "Requirement already satisfied: charset-normalizer<4,>=2 in /opt/clients/pykrylov/3.10/1.5.6/install (from requests<3,>=2->langchain==0.1.9) (3.4.1)\n",
      "Requirement already satisfied: idna<4,>=2.5 in /opt/clients/pykrylov/3.10/1.5.6/install (from requests<3,>=2->langchain==0.1.9) (3.10)\n",
      "Requirement already satisfied: urllib3<3,>=1.21.1 in /opt/clients/pykrylov/3.10/1.5.6/install (from requests<3,>=2->langchain==0.1.9) (1.26.20)\n",
      "Requirement already satisfied: certifi>=2017.4.17 in /opt/clients/pykrylov/3.10/1.5.6/install (from requests<3,>=2->langchain==0.1.9) (2024.12.14)\n",
      "Requirement already satisfied: greenlet!=0.4.17 in /opt/conda/lib/python3.10/site-packages (from SQLAlchemy<3,>=1.4->langchain==0.1.9) (2.0.2)\n",
      "Requirement already satisfied: anyio in /opt/conda/lib/python3.10/site-packages (from httpx<1,>=0.23.0->langsmith<0.2.0,>=0.1.0->langchain==0.1.9) (3.7.1)\n",
      "Requirement already satisfied: httpcore==1.* in /home/olivyatan/.local/lib/python3.10/site-packages (from httpx<1,>=0.23.0->langsmith<0.2.0,>=0.1.0->langchain==0.1.9) (1.0.7)\n",
      "Requirement already satisfied: h11<0.15,>=0.13 in /home/olivyatan/.local/lib/python3.10/site-packages (from httpcore==1.*->httpx<1,>=0.23.0->langsmith<0.2.0,>=0.1.0->langchain==0.1.9) (0.14.0)\n",
      "Collecting mypy-extensions>=0.3.0 (from typing-inspect<1,>=0.4.0->dataclasses-json<0.7,>=0.5.7->langchain==0.1.9)\n",
      "  Downloading mypy_extensions-1.0.0-py3-none-any.whl.metadata (1.1 kB)\n",
      "Requirement already satisfied: propcache>=0.2.0 in /opt/conda/lib/python3.10/site-packages (from yarl<2.0,>=1.12.0->aiohttp<4.0.0,>=3.8.3->langchain==0.1.9) (0.2.1)\n",
      "Requirement already satisfied: sniffio>=1.1 in /opt/conda/lib/python3.10/site-packages (from anyio->httpx<1,>=0.23.0->langsmith<0.2.0,>=0.1.0->langchain==0.1.9) (1.3.0)\n",
      "Requirement already satisfied: exceptiongroup in /opt/conda/lib/python3.10/site-packages (from anyio->httpx<1,>=0.23.0->langsmith<0.2.0,>=0.1.0->langchain==0.1.9) (1.1.2)\n",
      "Downloading langchain-0.1.9-py3-none-any.whl (816 kB)\n",
      "\u001b[2K   \u001b[90m━━━━━━━━━━━━━━━━━━━━━━━━━━━━━━━━━━━━━━━━\u001b[0m \u001b[32m817.0/817.0 kB\u001b[0m \u001b[31m7.5 MB/s\u001b[0m eta \u001b[36m0:00:00\u001b[0m\n",
      "\u001b[?25hDownloading dataclasses_json-0.6.7-py3-none-any.whl (28 kB)\n",
      "Downloading langchain_community-0.0.38-py3-none-any.whl (2.0 MB)\n",
      "\u001b[2K   \u001b[90m━━━━━━━━━━━━━━━━━━━━━━━━━━━━━━━━━━━━━━━━\u001b[0m \u001b[32m2.0/2.0 MB\u001b[0m \u001b[31m29.4 MB/s\u001b[0m eta \u001b[36m0:00:00\u001b[0m\n",
      "\u001b[?25hDownloading langchain_core-0.1.53-py3-none-any.whl (303 kB)\n",
      "Downloading langsmith-0.1.147-py3-none-any.whl (311 kB)\n",
      "Downloading marshmallow-3.26.0-py3-none-any.whl (50 kB)\n",
      "Downloading packaging-23.2-py3-none-any.whl (53 kB)\n",
      "Downloading typing_inspect-0.9.0-py3-none-any.whl (8.8 kB)\n",
      "Downloading mypy_extensions-1.0.0-py3-none-any.whl (4.7 kB)\n",
      "\u001b[33mWARNING: Error parsing dependencies of pytorch-lightning: .* suffix can only be used with `==` or `!=` operators\n",
      "    torch (>=1.8.*)\n",
      "           ~~~~~~^\u001b[0m\u001b[33m\n",
      "\u001b[0mInstalling collected packages: packaging, mypy-extensions, typing-inspect, marshmallow, langsmith, dataclasses-json, langchain-core, langchain-community, langchain\n",
      "  Attempting uninstall: langsmith\n",
      "    Found existing installation: langsmith 0.3.1\n",
      "    Uninstalling langsmith-0.3.1:\n",
      "      Successfully uninstalled langsmith-0.3.1\n",
      "\u001b[33m  WARNING: The script langsmith is installed in '/home/olivyatan/.local/bin' which is not on PATH.\n",
      "  Consider adding this directory to PATH or, if you prefer to suppress this warning, use --no-warn-script-location.\u001b[0m\u001b[33m\n",
      "\u001b[0m  Attempting uninstall: langchain-core\n",
      "    Found existing installation: langchain-core 0.3.31\n",
      "    Uninstalling langchain-core-0.3.31:\n",
      "      Successfully uninstalled langchain-core-0.3.31\n",
      "  Attempting uninstall: langchain\n",
      "    Found existing installation: langchain 0.3.15\n",
      "    Uninstalling langchain-0.3.15:\n",
      "      Successfully uninstalled langchain-0.3.15\n",
      "\u001b[33m  WARNING: The script langchain-server is installed in '/home/olivyatan/.local/bin' which is not on PATH.\n",
      "  Consider adding this directory to PATH or, if you prefer to suppress this warning, use --no-warn-script-location.\u001b[0m\u001b[33m\n",
      "\u001b[0m\u001b[31mERROR: pip's dependency resolver does not currently take into account all the packages that are installed. This behaviour is the source of the following dependency conflicts.\n",
      "langchain-text-splitters 0.3.5 requires langchain-core<0.4.0,>=0.3.29, but you have langchain-core 0.1.53 which is incompatible.\n",
      "generative-signals 0.1.0 requires tqdm==4.66.6, but you have tqdm 4.67.1 which is incompatible.\n",
      "spacy 3.2.1 requires pydantic!=1.8,!=1.8.1,<1.9.0,>=1.7.4, but you have pydantic 2.10.5 which is incompatible.\n",
      "harvest 0.1.0 requires cachetools<4.0,>=3.1, but you have cachetools 5.3.2 which is incompatible.\n",
      "harvest 0.1.0 requires certifi<2020.0.0,>=2019.6.16, but you have certifi 2024.12.14 which is incompatible.\n",
      "harvest 0.1.0 requires ipython<8.0.0,>=7.12.0, but you have ipython 8.14.0 which is incompatible.\n",
      "harvest 0.1.0 requires protobuf<4.0.0,>=3.10.0, but you have protobuf 4.23.4 which is incompatible.\n",
      "harvest 0.1.0 requires statsmodels<0.14.0,>=0.13.1, but you have statsmodels 0.14.0 which is incompatible.\u001b[0m\u001b[31m\n",
      "\u001b[0mSuccessfully installed dataclasses-json-0.6.7 langchain-0.1.9 langchain-community-0.0.38 langchain-core-0.1.53 langsmith-0.1.147 marshmallow-3.26.0 mypy-extensions-1.0.0 packaging-23.2 typing-inspect-0.9.0\n"
     ]
    }
   ],
   "source": [
    "! pip install langchain==0.1.9"
   ]
  },
  {
   "cell_type": "code",
   "execution_count": null,
   "id": "adaf2652-d4fb-4b65-92a4-bff54437e3e5",
   "metadata": {},
   "outputs": [],
   "source": []
  },
  {
   "cell_type": "markdown",
   "id": "a1641c15-ce35-42c3-ba94-67b8ca19678a",
   "metadata": {},
   "source": [
    "## Generate Label "
   ]
  },
  {
   "cell_type": "code",
   "execution_count": null,
   "id": "0e2c7a4d-9d69-4c6f-846c-3c449fe00161",
   "metadata": {},
   "outputs": [],
   "source": [
    "outfile_with_forbidden = 'collct_with_forbidden_gpt_tmp'\n",
    "outfile_no_forbidden = 'collct_no_forbidden_gpt_temp'\n",
    "outpath_tmp_json = 'data/Datasets/hag_pna_collct_09_24/GenSigsData/JsonTemp'\n",
    "outpath_final = 'data/Datasets/hag_pna_collct_09_24/GenSigsData' \n",
    "\n",
    "collct_df_with_sigs_with_forbidden = await generate_signals_per_item(collct_df_amended_with_forbidden.sample(10), \n",
    "                                                      cols_for_prompt=['title', 'aspects', 'desc'], \n",
    "                                                      outfile=f'{outpath_tmp_json}/{outfile_with_forbidden}.jsonl',  model_name='gpt') \n",
    "collct_df_with_sigs_with_forbidden.to_parquet(f'{outpath_final}/{outfile_with_forbidden}.parquet')\n",
    "\n",
    "#data/Datasets/hag_pna_collct_09_24/GenSigsData/JsonTemp/collct_with_forbidden_gpt_tmp.jsonl \n",
    "#data/Datasets/hag_pna_collct_09_24/GenSigsData/collct_with_forbidden_gpt_tmp.parquet"
   ]
  },
  {
   "cell_type": "code",
   "execution_count": 66,
   "id": "fe958e17-1128-422d-afff-ac4df24bf469",
   "metadata": {},
   "outputs": [
    {
     "name": "stdout",
     "output_type": "stream",
     "text": [
      "jsonTemp\n"
     ]
    }
   ],
   "source": [
    "! ls /data/ebay/data/olivyatan/Datasets/labeled_gen_data"
   ]
  },
  {
   "cell_type": "code",
   "execution_count": 29,
   "id": "fdcebe26-40c5-4fa3-9b6a-9b43e77c7855",
   "metadata": {},
   "outputs": [],
   "source": [
    "#mkdir /data/ebay/data/olivyatan/Datasets/labeled_gen_data/jsonTemp"
   ]
  },
  {
   "cell_type": "code",
   "execution_count": 15,
   "id": "dcaa4edf-4bdd-4515-bb0d-2d3ef65d72fc",
   "metadata": {},
   "outputs": [],
   "source": [
    "outfile_with_forbidden = 'gpt_labeled_hg_tmp' \n",
    "outpath_tmp_json = '/data/ebay/data/olivyatan/Datasets/labeled_gen_data/jsonTemp'\n",
    "outpath_final = '/data/ebay/data/olivyatan/Datasets/labeled_gen_data'\n",
    "outfile_json=f'{outpath_tmp_json}/{outfile_with_forbidden}.jsonl'\n",
    "out_file_parquet= f'{outpath_final}/{outfile_with_forbidden}.parquet'"
   ]
  },
  {
   "cell_type": "code",
   "execution_count": null,
   "id": "aef0e1b9-be43-4fed-b659-49bf4c60c4b5",
   "metadata": {},
   "outputs": [],
   "source": [
    "new_row = {\n",
    "    \"title\": \"Replacement Part\",  # Title can describe the product category\n",
    "    \"aspects\": \"OEM Quality, Durable Design\",  # Aspects that describe its features\n",
    "    \"desc\": \"Reliable replacement part for outdoor equipment\",  # Description of the item\n",
    "    \"signal\": \"New Murray 043830Ma 12\"  # The provided signal\n",
    "}\n",
    "\n",
    "# Combine old data with the new row\n",
    "df = pd.DataFrame(data + [new_row])"
   ]
  },
  {
   "cell_type": "code",
   "execution_count": 63,
   "id": "58b6c9bc-41fb-4c65-8027-900315a2c7ee",
   "metadata": {},
   "outputs": [],
   "source": [
    "refresh_module('dev.generation.sigs_gen')\n",
    "refresh_module('dev.generation.generators.base_sigs_generator')\n",
    "refresh_module('dev.generation.generators.gpt_generator')"
   ]
  },
  {
   "cell_type": "code",
   "execution_count": 67,
   "id": "57dcea33-b178-4c39-9510-d1f0b0fe799b",
   "metadata": {},
   "outputs": [
    {
     "name": "stdout",
     "output_type": "stream",
     "text": [
      "Total number of rows: 1\n",
      "Chomsky Gateway Loaded\n",
      "Sending request for index: 0\n",
      "Received Response for index: 0\n",
      "Total number of rows: 1\n",
      "Chomsky Gateway Loaded\n",
      "Sending request for index: 0\n",
      "Received Response for index: 0\n",
      "Total number of rows: 1\n",
      "Chomsky Gateway Loaded\n",
      "Sending request for index: 0\n",
      "Received Response for index: 0\n",
      "Total number of rows: 1\n",
      "Chomsky Gateway Loaded\n",
      "Sending request for index: 0\n",
      "Received Response for index: 0\n",
      "Total number of rows: 1\n",
      "Chomsky Gateway Loaded\n",
      "Sending request for index: 0\n",
      "Received Response for index: 0\n",
      "Total number of rows: 1\n",
      "Chomsky Gateway Loaded\n",
      "Sending request for index: 0\n",
      "Received Response for index: 0\n"
     ]
    }
   ],
   "source": [
    "import pandas as pd\n",
    "data = [\n",
    "   {\"title\": \"Wireless Earbuds\", \"aspects\": \"Bluetooth 5.0, Noise Cancellation\", \"desc\": \"High-quality sound\", \"signal\": \"Great battery life\"},\n",
    "    {\"title\": \"Electric Drill\", \"aspects\": \"Cordless, Lightweight\", \"desc\": \"Ideal for home projects\", \"signal\": \"600-899 W Power\"},\n",
    "    {\"title\": \"Vacuum Cleaner\", \"aspects\": \"Bagless, Compact Design\", \"desc\": \"Efficient and user-friendly\", \"signal\": \"Powerful 4-Point Suction\"},\n",
    "    {\"title\": \"LED Projector\", \"aspects\": \"Compact Design, Full HD\", \"desc\": \"Perfect for presentations\", \"signal\": \"2100 # 122444 5 Lumens\"},\n",
    "    {\"title\": \"Replacement Part\", \"aspects\": \"OEM Quality, Durable Design\", \"desc\": \"Reliable replacement part for outdoor equipment\", \n",
    "        \"signal\": \"New Murray 043830Ma 12\"},\n",
    "   {\"title\": \"Replacement Part\", \"aspects\": \"OEM Quality, Durable Design\", \"desc\": \"Reliable replacement part for outdoor equipment\", \"signal\":  \"50 X 60 In\"}\n",
    "\n",
    "\n",
    "]\n",
    "df = pd.DataFrame(data)\n",
    "\n",
    "\n",
    "# Generate labels\n",
    "labeled_df_hg_with_forbidden = await generate_labels_per_item(df,\n",
    "                                            cols_for_prompt=['title', 'aspects', 'desc', 'signal'],\n",
    "                                            outfile=outfile_json,\n",
    "                                            model_name='gpt')\n",
    "#labeled_df_hg_with_forbidden.to_parquet(out_file_parquet)"
   ]
  },
  {
   "cell_type": "code",
   "execution_count": 68,
   "id": "e68924e5-e508-4c01-8b2f-b374f3964be8",
   "metadata": {},
   "outputs": [
    {
     "data": {
      "text/html": [
       "<div>\n",
       "<style scoped>\n",
       "    .dataframe tbody tr th:only-of-type {\n",
       "        vertical-align: middle;\n",
       "    }\n",
       "\n",
       "    .dataframe tbody tr th {\n",
       "        vertical-align: top;\n",
       "    }\n",
       "\n",
       "    .dataframe thead th {\n",
       "        text-align: right;\n",
       "    }\n",
       "</style>\n",
       "<table border=\"1\" class=\"dataframe\">\n",
       "  <thead>\n",
       "    <tr style=\"text-align: right;\">\n",
       "      <th></th>\n",
       "      <th>title</th>\n",
       "      <th>aspects</th>\n",
       "      <th>desc</th>\n",
       "      <th>signal</th>\n",
       "      <th>raw_dict</th>\n",
       "      <th>label_gpt</th>\n",
       "      <th>label_reason_gpt</th>\n",
       "      <th>label_explanation_gpt</th>\n",
       "    </tr>\n",
       "  </thead>\n",
       "  <tbody>\n",
       "    <tr>\n",
       "      <th>0</th>\n",
       "      <td>Wireless Earbuds</td>\n",
       "      <td>Bluetooth 5.0, Noise Cancellation</td>\n",
       "      <td>High-quality sound</td>\n",
       "      <td>Great battery life</td>\n",
       "      <td>{'signal_label': 1, 'reason': '', 'explanation...</td>\n",
       "      <td>1.0</td>\n",
       "      <td></td>\n",
       "      <td>The signal 'Great battery life' is clear and r...</td>\n",
       "    </tr>\n",
       "    <tr>\n",
       "      <th>1</th>\n",
       "      <td>Electric Drill</td>\n",
       "      <td>Cordless, Lightweight</td>\n",
       "      <td>Ideal for home projects</td>\n",
       "      <td>600-899 W Power</td>\n",
       "      <td>{'signal_label': 1, 'reason': '', 'explanation...</td>\n",
       "      <td>1.0</td>\n",
       "      <td></td>\n",
       "      <td>The signal is clear and relevant, providing us...</td>\n",
       "    </tr>\n",
       "    <tr>\n",
       "      <th>2</th>\n",
       "      <td>Vacuum Cleaner</td>\n",
       "      <td>Bagless, Compact Design</td>\n",
       "      <td>Efficient and user-friendly</td>\n",
       "      <td>Powerful 4-Point Suction</td>\n",
       "      <td>{'signal_label': 1, 'reason': '', 'explanation...</td>\n",
       "      <td>1.0</td>\n",
       "      <td></td>\n",
       "      <td>The signal 'Powerful 4-Point Suction' is clear...</td>\n",
       "    </tr>\n",
       "    <tr>\n",
       "      <th>3</th>\n",
       "      <td>LED Projector</td>\n",
       "      <td>Compact Design, Full HD</td>\n",
       "      <td>Perfect for presentations</td>\n",
       "      <td>2100 # 122444 5 Lumens</td>\n",
       "      <td>{'signal_label': 0, 'reason': 'Numerical Domin...</td>\n",
       "      <td>0.0</td>\n",
       "      <td>Numerical Dominant</td>\n",
       "      <td>The signal '2100 # 122444 5 Lumens' is overloa...</td>\n",
       "    </tr>\n",
       "    <tr>\n",
       "      <th>4</th>\n",
       "      <td>Replacement Part</td>\n",
       "      <td>OEM Quality, Durable Design</td>\n",
       "      <td>Reliable replacement part for outdoor equipment</td>\n",
       "      <td>New Murray 043830Ma 12</td>\n",
       "      <td>{'signal_label': 0, 'reason': 'Too Similar to ...</td>\n",
       "      <td>0.0</td>\n",
       "      <td>Too Similar to Title</td>\n",
       "      <td>The signal 'New Murray 043830Ma 12' is too sim...</td>\n",
       "    </tr>\n",
       "    <tr>\n",
       "      <th>5</th>\n",
       "      <td>Replacement Part</td>\n",
       "      <td>OEM Quality, Durable Design</td>\n",
       "      <td>Reliable replacement part for outdoor equipment</td>\n",
       "      <td>50 X 60 In</td>\n",
       "      <td>{'signal_label': 0, 'reason': 'Problematic Num...</td>\n",
       "      <td>0.0</td>\n",
       "      <td>Problematic Numerical Pattern</td>\n",
       "      <td>The signal '50 X 60 In' presents a numerical p...</td>\n",
       "    </tr>\n",
       "  </tbody>\n",
       "</table>\n",
       "</div>"
      ],
      "text/plain": [
       "              title                            aspects  \\\n",
       "0  Wireless Earbuds  Bluetooth 5.0, Noise Cancellation   \n",
       "1    Electric Drill              Cordless, Lightweight   \n",
       "2    Vacuum Cleaner            Bagless, Compact Design   \n",
       "3     LED Projector            Compact Design, Full HD   \n",
       "4  Replacement Part        OEM Quality, Durable Design   \n",
       "5  Replacement Part        OEM Quality, Durable Design   \n",
       "\n",
       "                                              desc                    signal  \\\n",
       "0                               High-quality sound        Great battery life   \n",
       "1                          Ideal for home projects           600-899 W Power   \n",
       "2                      Efficient and user-friendly  Powerful 4-Point Suction   \n",
       "3                        Perfect for presentations    2100 # 122444 5 Lumens   \n",
       "4  Reliable replacement part for outdoor equipment    New Murray 043830Ma 12   \n",
       "5  Reliable replacement part for outdoor equipment                50 X 60 In   \n",
       "\n",
       "                                            raw_dict  label_gpt  \\\n",
       "0  {'signal_label': 1, 'reason': '', 'explanation...        1.0   \n",
       "1  {'signal_label': 1, 'reason': '', 'explanation...        1.0   \n",
       "2  {'signal_label': 1, 'reason': '', 'explanation...        1.0   \n",
       "3  {'signal_label': 0, 'reason': 'Numerical Domin...        0.0   \n",
       "4  {'signal_label': 0, 'reason': 'Too Similar to ...        0.0   \n",
       "5  {'signal_label': 0, 'reason': 'Problematic Num...        0.0   \n",
       "\n",
       "                label_reason_gpt  \\\n",
       "0                                  \n",
       "1                                  \n",
       "2                                  \n",
       "3             Numerical Dominant   \n",
       "4           Too Similar to Title   \n",
       "5  Problematic Numerical Pattern   \n",
       "\n",
       "                               label_explanation_gpt  \n",
       "0  The signal 'Great battery life' is clear and r...  \n",
       "1  The signal is clear and relevant, providing us...  \n",
       "2  The signal 'Powerful 4-Point Suction' is clear...  \n",
       "3  The signal '2100 # 122444 5 Lumens' is overloa...  \n",
       "4  The signal 'New Murray 043830Ma 12' is too sim...  \n",
       "5  The signal '50 X 60 In' presents a numerical p...  "
      ]
     },
     "execution_count": 68,
     "metadata": {},
     "output_type": "execute_result"
    }
   ],
   "source": [
    "labeled_df_hg_with_forbidden.head(10)"
   ]
  },
  {
   "cell_type": "code",
   "execution_count": 55,
   "id": "2e366f90-0455-4150-9fa0-2770d1c00e32",
   "metadata": {},
   "outputs": [
    {
     "name": "stdout",
     "output_type": "stream",
     "text": [
      "The signal is clear and relevant, providing useful information about the product's power range (600-899 W), which is important for potential buyers to understand the drill's capabilities. Additionally, the aspects of being cordless and lightweight, along with the description stating it is ideal for home projects, further enhance the signal's clarity and relevance.\n"
     ]
    }
   ],
   "source": [
    "print(labeled_df_hg_with_forbidden.iloc[1]['label_explanation_gpt'])"
   ]
  },
  {
   "cell_type": "code",
   "execution_count": 56,
   "id": "75a5bc64-b135-48d8-8b54-e288f986fd8e",
   "metadata": {},
   "outputs": [
    {
     "name": "stdout",
     "output_type": "stream",
     "text": [
      "{'signal_label': 1, 'reason': '', 'explanation': \"The signal is clear and relevant, providing useful information about the product's power range (600-899 W), which is important for potential buyers to understand the drill's capabilities. Additionally, the aspects of being cordless and lightweight, along with the description stating it is ideal for home projects, further enhance the signal's clarity and relevance.\"}\n"
     ]
    }
   ],
   "source": [
    "print(labeled_df_hg_with_forbidden.iloc[1]['raw_dict'])"
   ]
  },
  {
   "cell_type": "code",
   "execution_count": 71,
   "id": "500ddf10-3459-47fd-b560-0ad64a5a0183",
   "metadata": {},
   "outputs": [
    {
     "name": "stdout",
     "output_type": "stream",
     "text": [
      "'```json\\n{\"signal_label\": 2, \\n \"explanation\": \"The product features Bluetooth 5.0 and noise cancellation, which are desirable aspects for wireless earbuds, along with a description of high-quality sound and great battery life, indicating a very good overall signal.\"}\\n```'\n"
     ]
    }
   ],
   "source": [
    "print(repr(labeled_df_hg_with_forbidden.iloc[0]['label_text_gpt']))"
   ]
  },
  {
   "cell_type": "code",
   "execution_count": 55,
   "id": "354ca3af-001e-48a5-807e-3a038ea822eb",
   "metadata": {},
   "outputs": [
    {
     "data": {
      "text/plain": [
       "str"
      ]
     },
     "execution_count": 55,
     "metadata": {},
     "output_type": "execute_result"
    }
   ],
   "source": [
    "type(labeled_df_hg_with_forbidden.iloc[0]['gen_text_gpt'])"
   ]
  },
  {
   "cell_type": "code",
   "execution_count": null,
   "id": "4c6b9319-fd98-4e6d-81f2-78ae3213e7c9",
   "metadata": {},
   "outputs": [],
   "source": [
    "labeled_df_hg_with_forbidden.to_parquet(f'{outpath_final}/{outfile_with_forbidden}.parquet')"
   ]
  },
  {
   "cell_type": "code",
   "execution_count": null,
   "id": "c7b526dc-0896-4d2e-9010-ee8ce4506fbd",
   "metadata": {},
   "outputs": [],
   "source": []
  },
  {
   "cell_type": "code",
   "execution_count": null,
   "id": "da7052da-4bbb-4550-adc8-f499efe5f656",
   "metadata": {},
   "outputs": [],
   "source": [
    "/data/ebay/data/olivyatan/Datasets/labeled_gen_data"
   ]
  }
 ],
 "metadata": {
  "kernelspec": {
   "display_name": "Python 3 (ipykernel)",
   "language": "python",
   "name": "python3"
  },
  "language_info": {
   "codemirror_mode": {
    "name": "ipython",
    "version": 3
   },
   "file_extension": ".py",
   "mimetype": "text/x-python",
   "name": "python",
   "nbconvert_exporter": "python",
   "pygments_lexer": "ipython3",
   "version": "3.10.12"
  }
 },
 "nbformat": 4,
 "nbformat_minor": 5
}
